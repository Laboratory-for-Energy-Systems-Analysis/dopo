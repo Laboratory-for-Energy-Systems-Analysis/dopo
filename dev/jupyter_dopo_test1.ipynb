{
 "cells": [
  {
   "cell_type": "code",
   "execution_count": 1,
   "id": "3e1ffe53-e204-4ccf-bd45-f29f2f3f0d45",
   "metadata": {},
   "outputs": [],
   "source": [
    "import dopo"
   ]
  },
  {
   "cell_type": "code",
   "execution_count": 6,
   "id": "aa0ef4e3-b2a6-46ef-b0bf-324559920d0f",
   "metadata": {},
   "outputs": [],
   "source": [
    "import brightway2 as bw\n",
    "import bw2data as bd\n",
    "import bw2analyzer as ba"
   ]
  },
  {
   "cell_type": "code",
   "execution_count": 7,
   "id": "7516140d-2999-4f80-8c76-a6518d0ce40e",
   "metadata": {},
   "outputs": [
    {
     "name": "stdout",
     "output_type": "stream",
     "text": [
      "Biosphere database already present!!! No setup is needed\n"
     ]
    }
   ],
   "source": [
    "bd.projects.create_project(\"dopo-try1\")\n",
    "bw.bw2setup()\n",
    "\n",
    "bio3=bw.Database('biosphere3')\n",
    "ei39=bw.Database('ecoinvent 3.9.1 cutoff')\n",
    "ei39SSP2=bw.Database('ei_cutoff_3.9_image_SSP2-RCP19_2050 2024-06-27')"
   ]
  },
  {
   "cell_type": "code",
   "execution_count": 28,
   "id": "fc59dd39-a878-4ede-9a4c-2e97a5b64bca",
   "metadata": {},
   "outputs": [],
   "source": [
    "fp_yaml='cement_concrete.yaml'\n",
    "flt_act=dopo.generate_sets_from_filters(fp_yaml, database=ei39)"
   ]
  },
  {
   "cell_type": "code",
   "execution_count": 22,
   "id": "ab6e4b20-bb06-44e8-bc99-6bb6601bc1a3",
   "metadata": {},
   "outputs": [
    {
     "data": {
      "text/plain": [
       "Brightway2 SQLiteBackend: ei_cutoff_3.9_image_SSP2-RCP19_2050 2024-06-27"
      ]
     },
     "execution_count": 22,
     "metadata": {},
     "output_type": "execute_result"
    }
   ],
   "source": [
    "ei39SSP2"
   ]
  },
  {
   "cell_type": "code",
   "execution_count": 29,
   "id": "b867fd79-4ebb-4656-be93-d09959c8863f",
   "metadata": {},
   "outputs": [
    {
     "data": {
      "text/plain": [
       "{'Cement': set(),\n",
       " 'Concrete': set(),\n",
       " 'Steel': set(),\n",
       " 'Electricity production all': set(),\n",
       " 'Electricity production fossil': set(),\n",
       " 'Electricity production renewables': set(),\n",
       " 'Electricity production nuclear': set(),\n",
       " 'Electricity production biomass': set(),\n",
       " 'Electricity production biomethane': set(),\n",
       " 'Electricity production hydro': set(),\n",
       " 'Electricity production geothermal': set(),\n",
       " 'Electricity production photovoltaic': set(),\n",
       " 'Electricity production solar': set(),\n",
       " 'Electricity production wind': set(),\n",
       " 'Electricity production wood': set(),\n",
       " 'Electricity production wave energy': set(),\n",
       " 'Electricity production coal': set(),\n",
       " 'Electricity production lignite': set(),\n",
       " 'Electricity production natural gas': set(),\n",
       " 'Electricity production oil': set(),\n",
       " 'Electricity production petroleum': set()}"
      ]
     },
     "execution_count": 29,
     "metadata": {},
     "output_type": "execute_result"
    }
   ],
   "source": [
    "flt_act"
   ]
  },
  {
   "cell_type": "code",
   "execution_count": 19,
   "id": "6c55f5a8-4cff-4a21-9121-76a0b1222f26",
   "metadata": {},
   "outputs": [],
   "source": [
    "small_cement=[x for x in sets['Cement']]"
   ]
  },
  {
   "cell_type": "code",
   "execution_count": 20,
   "id": "5225205b-852e-4fe9-9935-c022ad1526d6",
   "metadata": {},
   "outputs": [
    {
     "data": {
      "text/plain": [
       "[]"
      ]
     },
     "execution_count": 20,
     "metadata": {},
     "output_type": "execute_result"
    }
   ],
   "source": [
    "small_cement"
   ]
  }
 ],
 "metadata": {
  "kernelspec": {
   "display_name": "Python 3 (ipykernel)",
   "language": "python",
   "name": "python3"
  },
  "language_info": {
   "codemirror_mode": {
    "name": "ipython",
    "version": 3
   },
   "file_extension": ".py",
   "mimetype": "text/x-python",
   "name": "python",
   "nbconvert_exporter": "python",
   "pygments_lexer": "ipython3",
   "version": "3.11.9"
  }
 },
 "nbformat": 4,
 "nbformat_minor": 5
}
