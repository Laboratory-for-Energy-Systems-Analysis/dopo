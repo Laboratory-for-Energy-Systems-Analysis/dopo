{
 "cells": [
  {
   "cell_type": "code",
   "execution_count": 54,
   "metadata": {},
   "outputs": [],
   "source": [
    "from functions_v2 import*\n",
    "from methods import MethodFinder\n",
    "\n",
    "import brightway2 as bw\n",
    "import bw2data as bd\n",
    "import bw2analyzer as ba\n",
    "\n",
    "#reduce?\n",
    "import ast\n",
    "import pandas as pd\n",
    "import matplotlib.pyplot as plt\n",
    "import seaborn as sns"
   ]
  },
  {
   "cell_type": "code",
   "execution_count": 55,
   "metadata": {},
   "outputs": [
    {
     "name": "stdout",
     "output_type": "stream",
     "text": [
      "Biosphere database already present!!! No setup is needed\n"
     ]
    }
   ],
   "source": [
    "bd.projects.set_current(\"premise-validation-try1\")\n",
    "bw.bw2setup()\n",
    "\n",
    "bio3=bw.Database('biosphere3')\n",
    "ei39=bw.Database('ecoinvent 3.9.1 cutoff')\n",
    "ei39SSP2=bw.Database('ei_cutoff_3.9_image_SSP2-RCP19_2050 2024-06-27')"
   ]
  },
  {
   "cell_type": "markdown",
   "metadata": {},
   "source": [
    "LCA DATA TO EXCEL "
   ]
  },
  {
   "cell_type": "code",
   "execution_count": 67,
   "metadata": {},
   "outputs": [],
   "source": [
    "#sector filters file names/paths\n",
    "\n",
    "cement = 'cement_small.yaml'\n",
    "electricity = 'electricity_small.yaml'\n",
    "fuels= 'fuels_small.yaml'\n",
    "steel = 'steel_small.yaml'\n",
    "transport = 'transport_small.yaml'"
   ]
  },
  {
   "cell_type": "code",
   "execution_count": 138,
   "metadata": {},
   "outputs": [
    {
     "data": {
      "text/plain": [
       "{'Cement': {'yaml': 'yamls\\\\cement_small.yaml', 'yaml identifier': 'Cement'},\n",
       " 'Electricity': {'yaml': 'yamls\\\\electricity_small.yaml',\n",
       "  'yaml identifier': 'Electricity'}}"
      ]
     },
     "execution_count": 138,
     "metadata": {},
     "output_type": "execute_result"
    }
   ],
   "source": [
    "files_dict={}\n",
    "files_dict['Cement']={'yaml': 'yamls\\cement_small.yaml',\n",
    "                      'yaml identifier': 'Cement'}\n",
    "files_dict['Electricity']= {'yaml':'yamls\\electricity_small.yaml',\n",
    "                            'yaml identifier': 'Electricity'} #yaml identifier is the name of the filter in the yaml file, in the first line.\n",
    "files_dict"
   ]
  },
  {
   "cell_type": "code",
   "execution_count": 139,
   "metadata": {},
   "outputs": [
    {
     "data": {
      "text/plain": [
       "{'Cement': {'yaml': 'yamls\\\\cement_small.yaml',\n",
       "  'yaml identifier': 'Cement',\n",
       "  'activities': ['cement production, Portland' (kilogram, IN, None),\n",
       "   'cement production, Portland' (kilogram, CH, None),\n",
       "   'cement production, Portland' (kilogram, US, None),\n",
       "   'cement production, Portland' (kilogram, ZA, None),\n",
       "   'cement production, Portland' (kilogram, CA-QC, None),\n",
       "   'cement production, Portland' (kilogram, BR, None),\n",
       "   'cement production, Portland' (kilogram, PE, None)]},\n",
       " 'Electricity': {'yaml': 'yamls\\\\electricity_small.yaml',\n",
       "  'yaml identifier': 'Electricity'}}"
      ]
     },
     "execution_count": 139,
     "metadata": {},
     "output_type": "execute_result"
    }
   ],
   "source": [
    "\n",
    "yaml_file=files_dict['Cement']['yaml']\n",
    "cement_sector_activities=generate_sets_from_filters(yaml_file, database=ei39SSP2)\n",
    "cement_sector_activities_to_list=list(cement_sector_activities['Cement'])[:]\n",
    "cement_sector_activities_to_list\n",
    "main_dict=files_dict.copy()\n",
    "main_dict['Cement']['activities']=cement_sector_activities_to_list\n",
    "main_dict\n"
   ]
  },
  {
   "cell_type": "code",
   "execution_count": 140,
   "metadata": {},
   "outputs": [
    {
     "data": {
      "text/plain": [
       "{'Cement': {'yaml': 'yamls\\\\cement_small.yaml',\n",
       "  'yaml identifier': 'Cement',\n",
       "  'activities': ['cement production, Portland' (kilogram, IN, None),\n",
       "   'cement production, Portland' (kilogram, CH, None),\n",
       "   'cement production, Portland' (kilogram, US, None),\n",
       "   'cement production, Portland' (kilogram, ZA, None),\n",
       "   'cement production, Portland' (kilogram, CA-QC, None),\n",
       "   'cement production, Portland' (kilogram, BR, None),\n",
       "   'cement production, Portland' (kilogram, PE, None)]},\n",
       " 'Electricity': {'yaml': 'yamls\\\\electricity_small.yaml',\n",
       "  'yaml identifier': 'Electricity',\n",
       "  'activities': ['electricity production, at biomass-fired IGCC power plant' (kilowatt hour, CEU, None),\n",
       "   'electricity production, at biomass-fired IGCC power plant' (kilowatt hour, BRA, None),\n",
       "   'electricity production, at biomass-fired IGCC power plant' (kilowatt hour, USA, None),\n",
       "   'electricity production, at biomass-fired IGCC power plant' (kilowatt hour, TUR, None),\n",
       "   'electricity production, at biomass-fired IGCC power plant' (kilowatt hour, RUS, None),\n",
       "   'electricity production, at biomass-fired IGCC power plant' (kilowatt hour, RSAM, None),\n",
       "   'electricity production, at biomass-fired IGCC power plant' (kilowatt hour, CHN, None),\n",
       "   'electricity production, at biomass-fired IGCC power plant' (kilowatt hour, SAF, None),\n",
       "   'electricity production, at biomass-fired IGCC power plant' (kilowatt hour, KOR, None),\n",
       "   'electricity production, at biomass-fired IGCC power plant' (kilowatt hour, UKR, None)]}}"
      ]
     },
     "execution_count": 140,
     "metadata": {},
     "output_type": "execute_result"
    }
   ],
   "source": [
    "yaml_file=files_dict['Electricity']['yaml']\n",
    "electricity_sector_activities=generate_sets_from_filters(yaml_file, database=ei39SSP2)\n",
    "electricity_sector_activities_to_list=list(electricity_sector_activities['Electricity'])[:]\n",
    "electricity_sector_activities_to_list\n",
    "main_dict=files_dict.copy()\n",
    "main_dict['Electricity']['activities']=electricity_sector_activities_to_list\n",
    "main_dict"
   ]
  },
  {
   "cell_type": "code",
   "execution_count": 142,
   "metadata": {},
   "outputs": [
    {
     "name": "stdout",
     "output_type": "stream",
     "text": [
      "{'Cement': {'yaml': 'yamls\\\\cement_small.yaml', 'yaml identifier': 'Cement', 'activities': ['cement production, Portland' (kilogram, IN, None), 'cement production, Portland' (kilogram, US, None), 'cement production, Portland' (kilogram, CH, None), 'cement production, Portland' (kilogram, ZA, None), 'cement production, Portland' (kilogram, CA-QC, None), 'cement production, Portland' (kilogram, BR, None), 'cement production, Portland' (kilogram, PE, None)]}, 'Electricity': {'yaml': 'yamls\\\\electricity_small.yaml', 'yaml identifier': 'Electricity', 'activities': ['electricity production, at biomass-fired IGCC power plant' (kilowatt hour, CEU, None), 'electricity production, at biomass-fired IGCC power plant' (kilowatt hour, BRA, None), 'electricity production, at biomass-fired IGCC power plant' (kilowatt hour, USA, None), 'electricity production, at biomass-fired IGCC power plant' (kilowatt hour, TUR, None), 'electricity production, at biomass-fired IGCC power plant' (kilowatt hour, RUS, None), 'electricity production, at biomass-fired IGCC power plant' (kilowatt hour, RSAM, None), 'electricity production, at biomass-fired IGCC power plant' (kilowatt hour, SAF, None), 'electricity production, at biomass-fired IGCC power plant' (kilowatt hour, CHN, None), 'electricity production, at biomass-fired IGCC power plant' (kilowatt hour, KOR, None), 'electricity production, at biomass-fired IGCC power plant' (kilowatt hour, UKR, None)]}}\n"
     ]
    }
   ],
   "source": [
    "# Assuming generate_sets_from_filters is a predefined function\n",
    "def process_yaml_files(files_dict, database):\n",
    "    main_dict=files_dict.copy()\n",
    "    for key, value in main_dict.items():\n",
    "        yaml_file = value['yaml']\n",
    "        yaml_identifier = value['yaml identifier']\n",
    "        \n",
    "        # Generate the sector activities\n",
    "        sector_activities = generate_sets_from_filters(yaml_file, database=database)\n",
    "        \n",
    "        # Convert the set of activities to a list\n",
    "        activities_list = list(sector_activities[yaml_identifier])\n",
    "        \n",
    "        # Add to the sectors_dict\n",
    "        main_dict[key]['activities'] = activities_list\n",
    "        \n",
    "    return main_dict\n"
   ]
  },
  {
   "cell_type": "code",
   "execution_count": 111,
   "metadata": {},
   "outputs": [],
   "source": [
    "sectors_dict= process_yaml_files(files_dict, ei39SSP2)"
   ]
  },
  {
   "cell_type": "code",
   "execution_count": 217,
   "metadata": {},
   "outputs": [
    {
     "data": {
      "text/plain": [
       "'electricity production, at biomass-fired IGCC power plant' (kilowatt hour, BRA, None)"
      ]
     },
     "execution_count": 217,
     "metadata": {},
     "output_type": "execute_result"
    }
   ],
   "source": [
    "sectors_dict['Electricity']['activities'][1]"
   ]
  },
  {
   "cell_type": "code",
   "execution_count": 144,
   "metadata": {},
   "outputs": [
    {
     "data": {
      "text/plain": [
       "{'method_1': {'object': Brightway2 Method: IPCC 2013: climate change: global warming potential (GWP100),\n",
       "  'method name': ('IPCC 2013',\n",
       "   'climate change',\n",
       "   'global warming potential (GWP100)'),\n",
       "  'short name': 'global warming potential (GWP100)',\n",
       "  'unit': 'kg CO2-Eq'},\n",
       " 'method_2': {'object': Brightway2 Method: EN15804: inventory indicators ISO21930: Cumulative Energy Demand - non-renewable energy resources,\n",
       "  'method name': ('EN15804',\n",
       "   'inventory indicators ISO21930',\n",
       "   'Cumulative Energy Demand - non-renewable energy resources'),\n",
       "  'short name': 'Cumulative Energy Demand - non-renewable energy resources',\n",
       "  'unit': 'megajoule'}}"
      ]
     },
     "execution_count": 144,
     "metadata": {},
     "output_type": "execute_result"
    }
   ],
   "source": [
    "#Get Methods\n",
    "finder=MethodFinder()\n",
    "finder.find_and_create_method(criteria=['IPCC', '2013', 'GWP100'], exclude=['no LT'])\n",
    "finder.find_and_create_method(criteria=['EN15804','Cumulative', 'non-renewable' ])\n",
    "# finder.find_and_create_method(criteria=['land occupation','selected'])\n",
    "# finder.find_and_create_method(criteria=['EN15804','fresh water'])\n",
    "method_dict=finder.get_all_methods()\n",
    "method_dict"
   ]
  },
  {
   "cell_type": "code",
   "execution_count": 145,
   "metadata": {},
   "outputs": [
    {
     "name": "stdout",
     "output_type": "stream",
     "text": [
      "Omitting activity name common prefix: 'cement production, '\n",
      "Omitting activity name common prefix: 'cement production, '\n"
     ]
    }
   ],
   "source": [
    "sector_activities=main_dict['Cement']['activities']\n",
    "\n",
    "lca_scores=compare_activities_multiple_methods(\n",
    "        activities_list=sector_activities,\n",
    "        methods=method_dict,\n",
    "        identifier='Cement',\n",
    "        mode='absolute'\n",
    "    )\n",
    "\n",
    "lca_scores=small_inputs_to_other_column(lca_scores, cutoff=0.02)\n",
    "\n",
    "scores_dict=main_dict.copy()\n",
    "scores_dict['Cement']['lca_tables_different_methods']=lca_scores"
   ]
  },
  {
   "cell_type": "code",
   "execution_count": 149,
   "metadata": {},
   "outputs": [
    {
     "data": {
      "text/plain": [
       "dict_keys(['Cement_global_warming_potential_(gwp100)', 'Cement_cumulative_energy_demand_-_non-renewable_energy_resources'])"
      ]
     },
     "execution_count": 149,
     "metadata": {},
     "output_type": "execute_result"
    }
   ],
   "source": [
    "scores_dict['Cement']['lca_tables_different_methods'].keys()"
   ]
  },
  {
   "cell_type": "code",
   "execution_count": 150,
   "metadata": {},
   "outputs": [
    {
     "name": "stdout",
     "output_type": "stream",
     "text": [
      "Omitting activity name common prefix: 'electricity production, at biomass-fired IGCC power '\n",
      "Omitting activity name common prefix: 'electricity production, at biomass-fired IGCC power '\n"
     ]
    }
   ],
   "source": [
    "sector_activities=main_dict['Electricity']['activities']\n",
    "\n",
    "lca_scores=compare_activities_multiple_methods(\n",
    "        activities_list=sector_activities,\n",
    "        methods=method_dict,\n",
    "        identifier='Electricity',\n",
    "        mode='absolute'\n",
    "    )\n",
    "\n",
    "lca_scores=small_inputs_to_other_column(lca_scores, cutoff=0.02)\n",
    "\n",
    "scores_dict['Electricity']['lca_tables_different_methods']=lca_scores"
   ]
  },
  {
   "cell_type": "code",
   "execution_count": 152,
   "metadata": {},
   "outputs": [
    {
     "data": {
      "text/plain": [
       "dict_keys(['Electricity_global_warming_potential_(gwp100)', 'Electricity_cumulative_energy_demand_-_non-renewable_energy_resources'])"
      ]
     },
     "execution_count": 152,
     "metadata": {},
     "output_type": "execute_result"
    }
   ],
   "source": [
    "scores_dict['Electricity']['lca_tables_different_methods'].keys()"
   ]
  },
  {
   "cell_type": "code",
   "execution_count": 157,
   "metadata": {},
   "outputs": [],
   "source": [
    "def sector_lca_scores(main_dict, method_dict):\n",
    "    '''\n",
    "    Generates the LCA scores for the sectors activities in the main dictionary \n",
    "    for the different methods in the method dictionary.\n",
    "\n",
    "    It returns the main dictionary updated as scores dictionary which also holds the former information for each sector.\n",
    "    The LCA scores are stored by method name in the respective sector dictionary within the main dictionary.\n",
    "    '''\n",
    "\n",
    "    # Initialize scores_dict as a copy of main_dict\n",
    "    scores_dict = main_dict.copy()\n",
    "\n",
    "    # Loop through each sector in main_dict\n",
    "    for sector in main_dict.keys():\n",
    "        # Extract activities for the current sector\n",
    "        sector_activities = main_dict[sector]['activities']\n",
    "        \n",
    "        # Calculate LCA scores using the specified method\n",
    "        lca_scores = compare_activities_multiple_methods(\n",
    "            activities_list=sector_activities,\n",
    "            methods=method_dict,\n",
    "            identifier=sector,\n",
    "            mode='absolute'\n",
    "        )\n",
    "        \n",
    "        # Apply the small_inputs_to_other_column function with the cutoff value\n",
    "        lca_scores = small_inputs_to_other_column(lca_scores, cutoff=0.02)\n",
    "        \n",
    "        # Save the LCA scores to the scores_dict\n",
    "        scores_dict[sector]['lca_tables_different_methods'] = lca_scores\n",
    "\n",
    "    return scores_dict"
   ]
  },
  {
   "cell_type": "code",
   "execution_count": 158,
   "metadata": {},
   "outputs": [
    {
     "name": "stdout",
     "output_type": "stream",
     "text": [
      "Omitting activity name common prefix: 'cement production, '\n",
      "Omitting activity name common prefix: 'cement production, '\n",
      "Omitting activity name common prefix: 'electricity production, at biomass-fired IGCC power '\n",
      "Omitting activity name common prefix: 'electricity production, at biomass-fired IGCC power '\n"
     ]
    }
   ],
   "source": [
    "scores_dict=sector_lca_scores(sectors_dict, method_dict)"
   ]
  },
  {
   "cell_type": "code",
   "execution_count": 156,
   "metadata": {},
   "outputs": [
    {
     "data": {
      "text/plain": [
       "dict_keys(['Cement_global_warming_potential_(gwp100)', 'Cement_cumulative_energy_demand_-_non-renewable_energy_resources'])"
      ]
     },
     "execution_count": 156,
     "metadata": {},
     "output_type": "execute_result"
    }
   ],
   "source": [
    "scores_dict['Cement']['lca_tables_different_methods'].keys()"
   ]
  },
  {
   "cell_type": "code",
   "execution_count": 185,
   "metadata": {},
   "outputs": [],
   "source": [
    "# Function to add statistics to DataFrame\n",
    "def add_statistics(df, column_name='total'):\n",
    "    # Calculate mean, standard deviation, and IQR\n",
    "    df['mean'] = df[column_name].mean()\n",
    "    df['std'] = df[column_name].std()\n",
    "    df['q1'] = df[column_name].quantile(0.25)\n",
    "    df['q3'] = df[column_name].quantile(0.75)\n",
    "    return df"
   ]
  },
  {
   "cell_type": "code",
   "execution_count": 196,
   "metadata": {},
   "outputs": [],
   "source": [
    "def sector_lca_scores_to_excel(scores_dict, excel_file_name):\n",
    "    # Prepare to save each LCA score table to a different worksheet in the same Excel file\n",
    "    excel_file = excel_file_name\n",
    "    with pd.ExcelWriter(excel_file, engine='openpyxl') as writer:\n",
    "        for sector in scores_dict.keys():\n",
    "            lca_tables = scores_dict[sector]['lca_tables_different_methods']\n",
    "            for method, table in lca_tables.items():\n",
    "                # Create a DataFrame for the current LCA score table\n",
    "                df = pd.DataFrame(table)\n",
    "                 # Add statistics to the DataFrame\n",
    "                df = add_statistics(df)\n",
    "                # Add sector marker column\n",
    "                df['sector']=str(sector)\n",
    "                # Generate a worksheet name\n",
    "                worksheet_name = f\"{sector}_{method}\"\n",
    "                if len(worksheet_name) > 31:\n",
    "                    worksheet_name = worksheet_name[:31]\n",
    "                # Save the DataFrame to the Excel file in a new worksheet\n",
    "                df.to_excel(writer, sheet_name=worksheet_name, index=False)"
   ]
  },
  {
   "cell_type": "code",
   "execution_count": 197,
   "metadata": {},
   "outputs": [],
   "source": [
    "lca_scores_in_excel=sector_lca_scores_to_excel(scores_dict, 'output_v2.xlsx')"
   ]
  },
  {
   "cell_type": "code",
   "execution_count": 202,
   "metadata": {},
   "outputs": [],
   "source": [
    "def sector_lca_scores_to_df(scores_dict):\n",
    "    df_list=[]\n",
    "    for sector in scores_dict.keys():\n",
    "        lca_tables = scores_dict[sector]['lca_tables_different_methods']\n",
    "        for method, table in lca_tables.items():\n",
    "            # Create a DataFrame for the current LCA score table\n",
    "            df = pd.DataFrame(table)\n",
    "            # Add statistics to the DataFrame\n",
    "            df = add_statistics(df)\n",
    "            \n",
    "            df_list.append(df)\n",
    "    return df_list"
   ]
  },
  {
   "cell_type": "code",
   "execution_count": 204,
   "metadata": {},
   "outputs": [],
   "source": [
    "df_list=sector_lca_scores_to_df(sectors_dict)\n"
   ]
  },
  {
   "cell_type": "code",
   "execution_count": 210,
   "metadata": {},
   "outputs": [
    {
     "data": {
      "text/html": [
       "<div>\n",
       "<style scoped>\n",
       "    .dataframe tbody tr th:only-of-type {\n",
       "        vertical-align: middle;\n",
       "    }\n",
       "\n",
       "    .dataframe tbody tr th {\n",
       "        vertical-align: top;\n",
       "    }\n",
       "\n",
       "    .dataframe thead th {\n",
       "        text-align: right;\n",
       "    }\n",
       "</style>\n",
       "<table border=\"1\" class=\"dataframe\">\n",
       "  <thead>\n",
       "    <tr style=\"text-align: right;\">\n",
       "      <th></th>\n",
       "      <th>activity</th>\n",
       "      <th>product</th>\n",
       "      <th>location</th>\n",
       "      <th>unit</th>\n",
       "      <th>method</th>\n",
       "      <th>method unit</th>\n",
       "      <th>total</th>\n",
       "      <th>37430: Cement clinkers</th>\n",
       "      <th>33: Coke oven products; refined petroleum products; nuclear fuel</th>\n",
       "      <th>6511: Road transport services of freight</th>\n",
       "      <th>11010: Hard coal</th>\n",
       "      <th>other</th>\n",
       "      <th>mean</th>\n",
       "      <th>std</th>\n",
       "      <th>q1</th>\n",
       "      <th>q3</th>\n",
       "    </tr>\n",
       "  </thead>\n",
       "  <tbody>\n",
       "    <tr>\n",
       "      <th>4</th>\n",
       "      <td>Portland</td>\n",
       "      <td></td>\n",
       "      <td>PE</td>\n",
       "      <td>kilogram</td>\n",
       "      <td>global warming potential (GWP100)</td>\n",
       "      <td>kg CO2-Eq</td>\n",
       "      <td>0.869433</td>\n",
       "      <td>0.824794</td>\n",
       "      <td>0.000000</td>\n",
       "      <td>0.000000</td>\n",
       "      <td>0.000000</td>\n",
       "      <td>0.043989</td>\n",
       "      <td>0.813069</td>\n",
       "      <td>0.04405</td>\n",
       "      <td>0.794423</td>\n",
       "      <td>0.837095</td>\n",
       "    </tr>\n",
       "    <tr>\n",
       "      <th>1</th>\n",
       "      <td>Portland</td>\n",
       "      <td></td>\n",
       "      <td>CA-QC</td>\n",
       "      <td>kilogram</td>\n",
       "      <td>global warming potential (GWP100)</td>\n",
       "      <td>kg CO2-Eq</td>\n",
       "      <td>0.841855</td>\n",
       "      <td>0.781589</td>\n",
       "      <td>0.000000</td>\n",
       "      <td>0.000000</td>\n",
       "      <td>0.000000</td>\n",
       "      <td>0.059457</td>\n",
       "      <td>0.813069</td>\n",
       "      <td>0.04405</td>\n",
       "      <td>0.794423</td>\n",
       "      <td>0.837095</td>\n",
       "    </tr>\n",
       "    <tr>\n",
       "      <th>0</th>\n",
       "      <td>Portland</td>\n",
       "      <td></td>\n",
       "      <td>BR</td>\n",
       "      <td>kilogram</td>\n",
       "      <td>global warming potential (GWP100)</td>\n",
       "      <td>kg CO2-Eq</td>\n",
       "      <td>0.832335</td>\n",
       "      <td>0.742414</td>\n",
       "      <td>0.043855</td>\n",
       "      <td>0.000000</td>\n",
       "      <td>0.000000</td>\n",
       "      <td>0.045301</td>\n",
       "      <td>0.813069</td>\n",
       "      <td>0.04405</td>\n",
       "      <td>0.794423</td>\n",
       "      <td>0.837095</td>\n",
       "    </tr>\n",
       "    <tr>\n",
       "      <th>5</th>\n",
       "      <td>Portland</td>\n",
       "      <td></td>\n",
       "      <td>US</td>\n",
       "      <td>kilogram</td>\n",
       "      <td>global warming potential (GWP100)</td>\n",
       "      <td>kg CO2-Eq</td>\n",
       "      <td>0.821278</td>\n",
       "      <td>0.759166</td>\n",
       "      <td>0.000000</td>\n",
       "      <td>0.000000</td>\n",
       "      <td>0.000000</td>\n",
       "      <td>0.061235</td>\n",
       "      <td>0.813069</td>\n",
       "      <td>0.04405</td>\n",
       "      <td>0.794423</td>\n",
       "      <td>0.837095</td>\n",
       "    </tr>\n",
       "    <tr>\n",
       "      <th>6</th>\n",
       "      <td>Portland</td>\n",
       "      <td></td>\n",
       "      <td>ZA</td>\n",
       "      <td>kilogram</td>\n",
       "      <td>global warming potential (GWP100)</td>\n",
       "      <td>kg CO2-Eq</td>\n",
       "      <td>0.814768</td>\n",
       "      <td>0.758633</td>\n",
       "      <td>0.000000</td>\n",
       "      <td>0.027084</td>\n",
       "      <td>0.000000</td>\n",
       "      <td>0.028688</td>\n",
       "      <td>0.813069</td>\n",
       "      <td>0.04405</td>\n",
       "      <td>0.794423</td>\n",
       "      <td>0.837095</td>\n",
       "    </tr>\n",
       "    <tr>\n",
       "      <th>3</th>\n",
       "      <td>Portland</td>\n",
       "      <td></td>\n",
       "      <td>IN</td>\n",
       "      <td>kilogram</td>\n",
       "      <td>global warming potential (GWP100)</td>\n",
       "      <td>kg CO2-Eq</td>\n",
       "      <td>0.774079</td>\n",
       "      <td>0.718396</td>\n",
       "      <td>0.000000</td>\n",
       "      <td>0.000000</td>\n",
       "      <td>0.016089</td>\n",
       "      <td>0.039142</td>\n",
       "      <td>0.813069</td>\n",
       "      <td>0.04405</td>\n",
       "      <td>0.794423</td>\n",
       "      <td>0.837095</td>\n",
       "    </tr>\n",
       "    <tr>\n",
       "      <th>2</th>\n",
       "      <td>Portland</td>\n",
       "      <td></td>\n",
       "      <td>CH</td>\n",
       "      <td>kilogram</td>\n",
       "      <td>global warming potential (GWP100)</td>\n",
       "      <td>kg CO2-Eq</td>\n",
       "      <td>0.737734</td>\n",
       "      <td>0.701263</td>\n",
       "      <td>0.000000</td>\n",
       "      <td>0.000000</td>\n",
       "      <td>0.000000</td>\n",
       "      <td>0.036028</td>\n",
       "      <td>0.813069</td>\n",
       "      <td>0.04405</td>\n",
       "      <td>0.794423</td>\n",
       "      <td>0.837095</td>\n",
       "    </tr>\n",
       "  </tbody>\n",
       "</table>\n",
       "</div>"
      ],
      "text/plain": [
       "   activity product location      unit                             method  \\\n",
       "4  Portland               PE  kilogram  global warming potential (GWP100)   \n",
       "1  Portland            CA-QC  kilogram  global warming potential (GWP100)   \n",
       "0  Portland               BR  kilogram  global warming potential (GWP100)   \n",
       "5  Portland               US  kilogram  global warming potential (GWP100)   \n",
       "6  Portland               ZA  kilogram  global warming potential (GWP100)   \n",
       "3  Portland               IN  kilogram  global warming potential (GWP100)   \n",
       "2  Portland               CH  kilogram  global warming potential (GWP100)   \n",
       "\n",
       "  method unit     total  37430: Cement clinkers  \\\n",
       "4   kg CO2-Eq  0.869433                0.824794   \n",
       "1   kg CO2-Eq  0.841855                0.781589   \n",
       "0   kg CO2-Eq  0.832335                0.742414   \n",
       "5   kg CO2-Eq  0.821278                0.759166   \n",
       "6   kg CO2-Eq  0.814768                0.758633   \n",
       "3   kg CO2-Eq  0.774079                0.718396   \n",
       "2   kg CO2-Eq  0.737734                0.701263   \n",
       "\n",
       "   33: Coke oven products; refined petroleum products; nuclear fuel  \\\n",
       "4                                           0.000000                  \n",
       "1                                           0.000000                  \n",
       "0                                           0.043855                  \n",
       "5                                           0.000000                  \n",
       "6                                           0.000000                  \n",
       "3                                           0.000000                  \n",
       "2                                           0.000000                  \n",
       "\n",
       "   6511: Road transport services of freight  11010: Hard coal     other  \\\n",
       "4                                  0.000000          0.000000  0.043989   \n",
       "1                                  0.000000          0.000000  0.059457   \n",
       "0                                  0.000000          0.000000  0.045301   \n",
       "5                                  0.000000          0.000000  0.061235   \n",
       "6                                  0.027084          0.000000  0.028688   \n",
       "3                                  0.000000          0.016089  0.039142   \n",
       "2                                  0.000000          0.000000  0.036028   \n",
       "\n",
       "       mean      std        q1        q3  \n",
       "4  0.813069  0.04405  0.794423  0.837095  \n",
       "1  0.813069  0.04405  0.794423  0.837095  \n",
       "0  0.813069  0.04405  0.794423  0.837095  \n",
       "5  0.813069  0.04405  0.794423  0.837095  \n",
       "6  0.813069  0.04405  0.794423  0.837095  \n",
       "3  0.813069  0.04405  0.794423  0.837095  \n",
       "2  0.813069  0.04405  0.794423  0.837095  "
      ]
     },
     "execution_count": 210,
     "metadata": {},
     "output_type": "execute_result"
    }
   ],
   "source": [
    "df=df_list[0]\n",
    "df"
   ]
  },
  {
   "cell_type": "code",
   "execution_count": null,
   "metadata": {},
   "outputs": [],
   "source": []
  },
  {
   "cell_type": "code",
   "execution_count": 208,
   "metadata": {},
   "outputs": [
    {
     "ename": "TypeError",
     "evalue": "dataframe_to_rows() got an unexpected keyword argument 'index'",
     "output_type": "error",
     "traceback": [
      "\u001b[1;31m---------------------------------------------------------------------------\u001b[0m",
      "\u001b[1;31mTypeError\u001b[0m                                 Traceback (most recent call last)",
      "Cell \u001b[1;32mIn[208], line 29\u001b[0m\n\u001b[0;32m     27\u001b[0m \u001b[38;5;66;03m# Write the dataframe to the first worksheet\u001b[39;00m\n\u001b[0;32m     28\u001b[0m ws_data \u001b[38;5;241m=\u001b[39m wb\u001b[38;5;241m.\u001b[39mactive\n\u001b[1;32m---> 29\u001b[0m \u001b[38;5;28;01mfor\u001b[39;00m r \u001b[38;5;129;01min\u001b[39;00m dataframe_to_rows(df, index\u001b[38;5;241m=\u001b[39m\u001b[38;5;28;01mFalse\u001b[39;00m, header\u001b[38;5;241m=\u001b[39m\u001b[38;5;28;01mTrue\u001b[39;00m):\n\u001b[0;32m     30\u001b[0m     ws_data\u001b[38;5;241m.\u001b[39mappend(r)\n\u001b[0;32m     32\u001b[0m \u001b[38;5;66;03m# Create a new worksheet for the chart\u001b[39;00m\n",
      "\u001b[1;31mTypeError\u001b[0m: dataframe_to_rows() got an unexpected keyword argument 'index'"
     ]
    }
   ],
   "source": []
  },
  {
   "cell_type": "markdown",
   "metadata": {},
   "source": [
    "PLOTS IN EXCEL"
   ]
  },
  {
   "cell_type": "code",
   "execution_count": null,
   "metadata": {},
   "outputs": [],
   "source": [
    "#for each sector create a worksheet which holds scatter plots where the x axis shows the index and the y axis the total score"
   ]
  },
  {
   "cell_type": "code",
   "execution_count": null,
   "metadata": {},
   "outputs": [],
   "source": [
    "# Load the Excel file\n",
    "wb = openpyxl.load_workbook('output_v2.xlsx')\n",
    "\n",
    "\n"
   ]
  },
  {
   "cell_type": "code",
   "execution_count": 224,
   "metadata": {},
   "outputs": [
    {
     "ename": "error",
     "evalue": "Error -3 while decompressing data: invalid distance too far back",
     "output_type": "error",
     "traceback": [
      "\u001b[1;31m---------------------------------------------------------------------------\u001b[0m",
      "\u001b[1;31merror\u001b[0m                                     Traceback (most recent call last)",
      "Cell \u001b[1;32mIn[224], line 6\u001b[0m\n\u001b[0;32m      3\u001b[0m \u001b[38;5;28;01mfrom\u001b[39;00m \u001b[38;5;21;01mopenpyxl\u001b[39;00m\u001b[38;5;21;01m.\u001b[39;00m\u001b[38;5;21;01mchart\u001b[39;00m \u001b[38;5;28;01mimport\u001b[39;00m ScatterChart, Series\n\u001b[0;32m      5\u001b[0m \u001b[38;5;66;03m# Load the Excel file\u001b[39;00m\n\u001b[1;32m----> 6\u001b[0m wb \u001b[38;5;241m=\u001b[39m openpyxl\u001b[38;5;241m.\u001b[39mload_workbook(\u001b[38;5;124m'\u001b[39m\u001b[38;5;124moutput_v2.xlsx\u001b[39m\u001b[38;5;124m'\u001b[39m)\n\u001b[0;32m      8\u001b[0m \u001b[38;5;66;03m# Create a dictionary to store the charts for each sector\u001b[39;00m\n\u001b[0;32m      9\u001b[0m sector_charts \u001b[38;5;241m=\u001b[39m {}\n",
      "File \u001b[1;32mc:\\Users\\fried\\miniconda3\\envs\\premise\\Lib\\site-packages\\openpyxl\\reader\\excel.py:348\u001b[0m, in \u001b[0;36mload_workbook\u001b[1;34m(filename, read_only, keep_vba, data_only, keep_links, rich_text)\u001b[0m\n\u001b[0;32m    318\u001b[0m \u001b[38;5;250m\u001b[39m\u001b[38;5;124;03m\"\"\"Open the given filename and return the workbook\u001b[39;00m\n\u001b[0;32m    319\u001b[0m \n\u001b[0;32m    320\u001b[0m \u001b[38;5;124;03m:param filename: the path to open or a file-like object\u001b[39;00m\n\u001b[1;32m   (...)\u001b[0m\n\u001b[0;32m    344\u001b[0m \n\u001b[0;32m    345\u001b[0m \u001b[38;5;124;03m\"\"\"\u001b[39;00m\n\u001b[0;32m    346\u001b[0m reader \u001b[38;5;241m=\u001b[39m ExcelReader(filename, read_only, keep_vba,\n\u001b[0;32m    347\u001b[0m                      data_only, keep_links, rich_text)\n\u001b[1;32m--> 348\u001b[0m reader\u001b[38;5;241m.\u001b[39mread()\n\u001b[0;32m    349\u001b[0m \u001b[38;5;28;01mreturn\u001b[39;00m reader\u001b[38;5;241m.\u001b[39mwb\n",
      "File \u001b[1;32mc:\\Users\\fried\\miniconda3\\envs\\premise\\Lib\\site-packages\\openpyxl\\reader\\excel.py:303\u001b[0m, in \u001b[0;36mExcelReader.read\u001b[1;34m(self)\u001b[0m\n\u001b[0;32m    301\u001b[0m apply_stylesheet(\u001b[38;5;28mself\u001b[39m\u001b[38;5;241m.\u001b[39marchive, \u001b[38;5;28mself\u001b[39m\u001b[38;5;241m.\u001b[39mwb)\n\u001b[0;32m    302\u001b[0m action \u001b[38;5;241m=\u001b[39m \u001b[38;5;124m\"\u001b[39m\u001b[38;5;124mread worksheets\u001b[39m\u001b[38;5;124m\"\u001b[39m\n\u001b[1;32m--> 303\u001b[0m \u001b[38;5;28mself\u001b[39m\u001b[38;5;241m.\u001b[39mread_worksheets()\n\u001b[0;32m    304\u001b[0m action \u001b[38;5;241m=\u001b[39m \u001b[38;5;124m\"\u001b[39m\u001b[38;5;124massign names\u001b[39m\u001b[38;5;124m\"\u001b[39m\n\u001b[0;32m    305\u001b[0m \u001b[38;5;28mself\u001b[39m\u001b[38;5;241m.\u001b[39mparser\u001b[38;5;241m.\u001b[39massign_names()\n",
      "File \u001b[1;32mc:\\Users\\fried\\miniconda3\\envs\\premise\\Lib\\site-packages\\openpyxl\\reader\\excel.py:237\u001b[0m, in \u001b[0;36mExcelReader.read_worksheets\u001b[1;34m(self)\u001b[0m\n\u001b[0;32m    235\u001b[0m     ws\u001b[38;5;241m.\u001b[39m_rels \u001b[38;5;241m=\u001b[39m rels\n\u001b[0;32m    236\u001b[0m     ws_parser \u001b[38;5;241m=\u001b[39m WorksheetReader(ws, fh, \u001b[38;5;28mself\u001b[39m\u001b[38;5;241m.\u001b[39mshared_strings, \u001b[38;5;28mself\u001b[39m\u001b[38;5;241m.\u001b[39mdata_only, \u001b[38;5;28mself\u001b[39m\u001b[38;5;241m.\u001b[39mrich_text)\n\u001b[1;32m--> 237\u001b[0m     ws_parser\u001b[38;5;241m.\u001b[39mbind_all()\n\u001b[0;32m    238\u001b[0m     fh\u001b[38;5;241m.\u001b[39mclose()\n\u001b[0;32m    240\u001b[0m \u001b[38;5;66;03m# assign any comments to cells\u001b[39;00m\n",
      "File \u001b[1;32mc:\\Users\\fried\\miniconda3\\envs\\premise\\Lib\\site-packages\\openpyxl\\worksheet\\_reader.py:465\u001b[0m, in \u001b[0;36mWorksheetReader.bind_all\u001b[1;34m(self)\u001b[0m\n\u001b[0;32m    464\u001b[0m \u001b[38;5;28;01mdef\u001b[39;00m \u001b[38;5;21mbind_all\u001b[39m(\u001b[38;5;28mself\u001b[39m):\n\u001b[1;32m--> 465\u001b[0m     \u001b[38;5;28mself\u001b[39m\u001b[38;5;241m.\u001b[39mbind_cells()\n\u001b[0;32m    466\u001b[0m     \u001b[38;5;28mself\u001b[39m\u001b[38;5;241m.\u001b[39mbind_merged_cells()\n\u001b[0;32m    467\u001b[0m     \u001b[38;5;28mself\u001b[39m\u001b[38;5;241m.\u001b[39mbind_hyperlinks()\n",
      "File \u001b[1;32mc:\\Users\\fried\\miniconda3\\envs\\premise\\Lib\\site-packages\\openpyxl\\worksheet\\_reader.py:368\u001b[0m, in \u001b[0;36mWorksheetReader.bind_cells\u001b[1;34m(self)\u001b[0m\n\u001b[0;32m    367\u001b[0m \u001b[38;5;28;01mdef\u001b[39;00m \u001b[38;5;21mbind_cells\u001b[39m(\u001b[38;5;28mself\u001b[39m):\n\u001b[1;32m--> 368\u001b[0m     \u001b[38;5;28;01mfor\u001b[39;00m idx, row \u001b[38;5;129;01min\u001b[39;00m \u001b[38;5;28mself\u001b[39m\u001b[38;5;241m.\u001b[39mparser\u001b[38;5;241m.\u001b[39mparse():\n\u001b[0;32m    369\u001b[0m         \u001b[38;5;28;01mfor\u001b[39;00m cell \u001b[38;5;129;01min\u001b[39;00m row:\n\u001b[0;32m    370\u001b[0m             style \u001b[38;5;241m=\u001b[39m \u001b[38;5;28mself\u001b[39m\u001b[38;5;241m.\u001b[39mws\u001b[38;5;241m.\u001b[39mparent\u001b[38;5;241m.\u001b[39m_cell_styles[cell[\u001b[38;5;124m'\u001b[39m\u001b[38;5;124mstyle_id\u001b[39m\u001b[38;5;124m'\u001b[39m]]\n",
      "File \u001b[1;32mc:\\Users\\fried\\miniconda3\\envs\\premise\\Lib\\site-packages\\openpyxl\\worksheet\\_reader.py:156\u001b[0m, in \u001b[0;36mWorkSheetParser.parse\u001b[1;34m(self)\u001b[0m\n\u001b[0;32m    137\u001b[0m properties \u001b[38;5;241m=\u001b[39m {\n\u001b[0;32m    138\u001b[0m     PRINT_TAG: (\u001b[38;5;124m'\u001b[39m\u001b[38;5;124mprint_options\u001b[39m\u001b[38;5;124m'\u001b[39m, PrintOptions),\n\u001b[0;32m    139\u001b[0m     MARGINS_TAG: (\u001b[38;5;124m'\u001b[39m\u001b[38;5;124mpage_margins\u001b[39m\u001b[38;5;124m'\u001b[39m, PageMargins),\n\u001b[1;32m   (...)\u001b[0m\n\u001b[0;32m    151\u001b[0m \n\u001b[0;32m    152\u001b[0m }\n\u001b[0;32m    154\u001b[0m it \u001b[38;5;241m=\u001b[39m iterparse(\u001b[38;5;28mself\u001b[39m\u001b[38;5;241m.\u001b[39msource) \u001b[38;5;66;03m# add a finaliser to close the source when this becomes possible\u001b[39;00m\n\u001b[1;32m--> 156\u001b[0m \u001b[38;5;28;01mfor\u001b[39;00m _, element \u001b[38;5;129;01min\u001b[39;00m it:\n\u001b[0;32m    157\u001b[0m     tag_name \u001b[38;5;241m=\u001b[39m element\u001b[38;5;241m.\u001b[39mtag\n\u001b[0;32m    158\u001b[0m     \u001b[38;5;28;01mif\u001b[39;00m tag_name \u001b[38;5;129;01min\u001b[39;00m dispatcher:\n",
      "File \u001b[1;32mc:\\Users\\fried\\miniconda3\\envs\\premise\\Lib\\xml\\etree\\ElementTree.py:1253\u001b[0m, in \u001b[0;36miterparse.<locals>.iterator\u001b[1;34m(source)\u001b[0m\n\u001b[0;32m   1251\u001b[0m \u001b[38;5;28;01myield from\u001b[39;00m pullparser\u001b[38;5;241m.\u001b[39mread_events()\n\u001b[0;32m   1252\u001b[0m \u001b[38;5;66;03m# load event buffer\u001b[39;00m\n\u001b[1;32m-> 1253\u001b[0m data \u001b[38;5;241m=\u001b[39m source\u001b[38;5;241m.\u001b[39mread(\u001b[38;5;241m16\u001b[39m \u001b[38;5;241m*\u001b[39m \u001b[38;5;241m1024\u001b[39m)\n\u001b[0;32m   1254\u001b[0m \u001b[38;5;28;01mif\u001b[39;00m \u001b[38;5;129;01mnot\u001b[39;00m data:\n\u001b[0;32m   1255\u001b[0m     \u001b[38;5;28;01mbreak\u001b[39;00m\n",
      "File \u001b[1;32mc:\\Users\\fried\\miniconda3\\envs\\premise\\Lib\\zipfile.py:965\u001b[0m, in \u001b[0;36mZipExtFile.read\u001b[1;34m(self, n)\u001b[0m\n\u001b[0;32m    963\u001b[0m \u001b[38;5;28mself\u001b[39m\u001b[38;5;241m.\u001b[39m_offset \u001b[38;5;241m=\u001b[39m \u001b[38;5;241m0\u001b[39m\n\u001b[0;32m    964\u001b[0m \u001b[38;5;28;01mwhile\u001b[39;00m n \u001b[38;5;241m>\u001b[39m \u001b[38;5;241m0\u001b[39m \u001b[38;5;129;01mand\u001b[39;00m \u001b[38;5;129;01mnot\u001b[39;00m \u001b[38;5;28mself\u001b[39m\u001b[38;5;241m.\u001b[39m_eof:\n\u001b[1;32m--> 965\u001b[0m     data \u001b[38;5;241m=\u001b[39m \u001b[38;5;28mself\u001b[39m\u001b[38;5;241m.\u001b[39m_read1(n)\n\u001b[0;32m    966\u001b[0m     \u001b[38;5;28;01mif\u001b[39;00m n \u001b[38;5;241m<\u001b[39m \u001b[38;5;28mlen\u001b[39m(data):\n\u001b[0;32m    967\u001b[0m         \u001b[38;5;28mself\u001b[39m\u001b[38;5;241m.\u001b[39m_readbuffer \u001b[38;5;241m=\u001b[39m data\n",
      "File \u001b[1;32mc:\\Users\\fried\\miniconda3\\envs\\premise\\Lib\\zipfile.py:1041\u001b[0m, in \u001b[0;36mZipExtFile._read1\u001b[1;34m(self, n)\u001b[0m\n\u001b[0;32m   1039\u001b[0m \u001b[38;5;28;01melif\u001b[39;00m \u001b[38;5;28mself\u001b[39m\u001b[38;5;241m.\u001b[39m_compress_type \u001b[38;5;241m==\u001b[39m ZIP_DEFLATED:\n\u001b[0;32m   1040\u001b[0m     n \u001b[38;5;241m=\u001b[39m \u001b[38;5;28mmax\u001b[39m(n, \u001b[38;5;28mself\u001b[39m\u001b[38;5;241m.\u001b[39mMIN_READ_SIZE)\n\u001b[1;32m-> 1041\u001b[0m     data \u001b[38;5;241m=\u001b[39m \u001b[38;5;28mself\u001b[39m\u001b[38;5;241m.\u001b[39m_decompressor\u001b[38;5;241m.\u001b[39mdecompress(data, n)\n\u001b[0;32m   1042\u001b[0m     \u001b[38;5;28mself\u001b[39m\u001b[38;5;241m.\u001b[39m_eof \u001b[38;5;241m=\u001b[39m (\u001b[38;5;28mself\u001b[39m\u001b[38;5;241m.\u001b[39m_decompressor\u001b[38;5;241m.\u001b[39meof \u001b[38;5;129;01mor\u001b[39;00m\n\u001b[0;32m   1043\u001b[0m                  \u001b[38;5;28mself\u001b[39m\u001b[38;5;241m.\u001b[39m_compress_left \u001b[38;5;241m<\u001b[39m\u001b[38;5;241m=\u001b[39m \u001b[38;5;241m0\u001b[39m \u001b[38;5;129;01mand\u001b[39;00m\n\u001b[0;32m   1044\u001b[0m                  \u001b[38;5;129;01mnot\u001b[39;00m \u001b[38;5;28mself\u001b[39m\u001b[38;5;241m.\u001b[39m_decompressor\u001b[38;5;241m.\u001b[39munconsumed_tail)\n\u001b[0;32m   1045\u001b[0m     \u001b[38;5;28;01mif\u001b[39;00m \u001b[38;5;28mself\u001b[39m\u001b[38;5;241m.\u001b[39m_eof:\n",
      "\u001b[1;31merror\u001b[0m: Error -3 while decompressing data: invalid distance too far back"
     ]
    }
   ],
   "source": [
    "import openpyxl\n",
    "from openpyxl.chart import ScatterChart, Reference, Series\n",
    "\n",
    "# Load the Excel file\n",
    "wb = openpyxl.load_workbook('output_v2.xlsx')\n",
    "\n",
    "# Create a dictionary to store the charts for each sector\n",
    "sector_charts = {}\n",
    "\n",
    "# Loop through each worksheet\n",
    "for ws_name in wb.sheetnames:\n",
    "    ws = wb[ws_name]\n",
    "\n",
    "    #read the worksheet into a DataFrame\n",
    "    df = pd.read_excel(wb, sheet_name = ws_name)\n",
    "\n",
    "    # Create the scatter chart\n",
    "    chart = ScatterChart()\n",
    "    chart.title = f\"LCA Scores\"\n",
    "    chart.y_axis.title = df[df.columns['method unit']]\n",
    "    chart.x_axis.title = 'activities indexes'\n",
    "\n",
    "    # Define the data range for the chart\n",
    "    y_values = df[df.columns['total']] # Assuming the data starts in column 2\n",
    "    x_values = df[df.index]\n",
    "    # Create a series and add it to the chart\n",
    "    series = Series(y_values, x_values, title_from_data=False)\n",
    "    chart.series.append(series)\n",
    "\n",
    "    # Customize the series to show only markers (dots)\n",
    "    series.marker.symbol = \"circle\"\n",
    "    series.marker.size = 5\n",
    "    series.graphicalProperties.line.noFill = True\n",
    "\n",
    "    # Add the chart to the dictionary\n",
    "    sector_charts[ws_name] = chart\n",
    "\n",
    "# Save the updated workbook\n",
    "for ws_name, chart in sector_charts.items():\n",
    "    ws = wb[ws_name]\n",
    "    ws.add_chart(chart, \"A1\")\n",
    "wb.save('output_v2.xlsx')"
   ]
  },
  {
   "cell_type": "code",
   "execution_count": 198,
   "metadata": {},
   "outputs": [
    {
     "name": "stderr",
     "output_type": "stream",
     "text": [
      "c:\\Users\\fried\\miniconda3\\envs\\premise\\Lib\\site-packages\\openpyxl\\workbook\\child.py:99: UserWarning: Title is more than 31 characters. Some applications may not be able to read the file\n",
      "  warnings.warn(\"Title is more than 31 characters. Some applications may not be able to read the file\")\n"
     ]
    }
   ],
   "source": [
    "# Load the Excel file\n",
    "wb = openpyxl.load_workbook('output_v2.xlsx')\n",
    "\n",
    "# Create a dictionary to store the charts for each sector\n",
    "sector_charts = {}\n",
    "\n",
    "# Iterate through the worksheets in the workbook\n",
    "for ws in wb.worksheets:\n",
    "    # Find the column with the 'method' label\n",
    "    for col in range(1, ws.max_column + 1):\n",
    "        if str(ws.cell(row=1, column=col).value) == 'method':\n",
    "            sector_name = str(ws.cell(row=2, column=col).value)\n",
    "            break\n",
    "    else:\n",
    "        # If 'method' column not found, skip this worksheet\n",
    "        continue\n",
    "\n",
    "    # Check if the sector is already in the dictionary\n",
    "    if sector_name not in sector_charts:\n",
    "        # Create a new worksheet for the sector\n",
    "        sector_ws = wb.create_sheet(sector_name)\n",
    "        sector_charts[sector_name] = sector_ws\n",
    "\n",
    "    # Get the number of rows in the worksheet\n",
    "    row_count = ws.max_row\n",
    "\n",
    "    # Create the scatter chart\n",
    "    chart = ScatterChart()\n",
    "    chart.title = f\"LCA Scores - {sector_name}\"\n",
    "    chart.y_axis.title = sector_name\n",
    "    chart.x_axis.title = 'activities indexes'\n",
    "\n",
    "    # Define the data range for the chart\n",
    "    y_col = next(col for col in range(1, ws.max_column + 1) if str(ws.cell(row=1, column=col).value) != 'method')  # Assuming the data starts in the column after 'method'\n",
    "    y_values = Reference(ws, min_col=y_col, min_row=2, max_row=row_count)\n",
    "    x_values = Reference(ws, min_col=1, min_row=2, max_row=row_count)\n",
    "\n",
    "    # Create a series and add it to the chart\n",
    "    series = Series(y_values, x_values, title_from_data=False)\n",
    "    chart.series.append(series)\n",
    "\n",
    "    # Customize the series to show only markers (dots)\n",
    "    series.marker.symbol = \"circle\"\n",
    "    series.marker.size = 5\n",
    "    series.graphicalProperties.line.noFill = True\n",
    "\n",
    "    # Add the chart to the sector worksheet\n",
    "    sector_charts[sector_name].add_chart(chart, \"A1\")\n",
    "\n",
    "# Save the workbook\n",
    "wb.save('output_v2.xlsx')"
   ]
  },
  {
   "cell_type": "code",
   "execution_count": null,
   "metadata": {},
   "outputs": [
    {
     "name": "stdout",
     "output_type": "stream",
     "text": [
      "Scatter chart with dots has been created and saved in data.xlsx\n"
     ]
    }
   ],
   "source": [
    "import pandas as pd\n",
    "from openpyxl import load_workbook\n",
    "from openpyxl.chart import ScatterChart, Reference, Series\n",
    "\n",
    "# Assuming you have a DataFrame called 'df' with a column named 'total'\n",
    "# If not, replace 'df' with your actual DataFrame name\n",
    "\n",
    "# Step 1: Save the DataFrame to an Excel file\n",
    "excel_file = 'output_v1.xlsx'\n",
    "df.to_excel(excel_file, index=False)\n",
    "\n",
    "# Step 2: Use openpyxl to create the scatter chart\n",
    "wb = load_workbook(excel_file)\n",
    "ws = wb.active\n",
    "\n",
    "# Determine the number of rows in the worksheet\n",
    "row_count = ws.max_row\n",
    "\n",
    "# Create the scatter chart\n",
    "chart = ScatterChart()\n",
    "chart.title = \"LCA Scores\"\n",
    "chart.y_axis.title = str(df['method'])\n",
    "chart.x_axis.title = 'activities indexes'\n",
    "\n",
    "# Define the data range for the chart\n",
    "y_values = Reference(ws, min_col=df.columns.get_loc('total') + 1, min_row=2, max_row=row_count) #add sorting step?\n",
    "x_values = Reference(ws, min_col=1, min_row=2, max_row=row_count)\n",
    "\n",
    "# Create a series and add it to the chart\n",
    "series = Series(y_values, x_values, title_from_data=False)\n",
    "chart.series.append(series)\n",
    "\n",
    "# Customize the series to show only markers (dots)\n",
    "series.marker.symbol = \"circle\"\n",
    "series.marker.size = 5\n",
    "series.graphicalProperties.line.noFill = True\n",
    "\n",
    "# Add the chart to the worksheet\n",
    "ws.add_chart(chart, \"H2\")\n",
    "\n",
    "# Save the workbook\n",
    "wb.save(excel_file)\n",
    "\n",
    "print(f\"Scatter chart with dots has been created and saved in {excel_file}\")"
   ]
  },
  {
   "cell_type": "code",
   "execution_count": null,
   "metadata": {},
   "outputs": [],
   "source": [
    "import openpyxl\n",
    "import openpyxl.chart\n",
    "\n",
    "wb = openpyxl.Workbook()\n",
    "ws = wb.active\n",
    "\n",
    "data=lca_scores_agg\n",
    "\n",
    "# Write dictionary keys to the first row (header)\n",
    "for col_num, key in enumerate(data.keys(), start=1):\n",
    "    ws.cell(row=1, column=col_num, value=key)\n",
    "\n",
    "# Write dictionary values to subsequent rows\n",
    "for row_num, row_values in enumerate(zip(*data.values()), start=2):\n",
    "    for col_num, value in enumerate(row_values, start=1):\n",
    "        ws.cell(row=row_num, column=col_num, value=value)\n",
    "\n",
    "wb.save('test_wb.xlsx')\n",
    "#openpyxl.chart.scatter_chart(scatterStyle='marker')\n"
   ]
  },
  {
   "cell_type": "code",
   "execution_count": null,
   "metadata": {},
   "outputs": [],
   "source": [
    "# Run bw 2 analyzer for the 5 sectors to then get stacked bar plots for several methods. Save each method in a different sheet."
   ]
  },
  {
   "cell_type": "code",
   "execution_count": null,
   "metadata": {},
   "outputs": [],
   "source": [
    "# Get ecoinvent and filter it also for the sectors. Plot level 3. Different methods in one sheet"
   ]
  },
  {
   "cell_type": "markdown",
   "metadata": {},
   "source": []
  }
 ],
 "metadata": {
  "kernelspec": {
   "display_name": "premise",
   "language": "python",
   "name": "python3"
  },
  "language_info": {
   "codemirror_mode": {
    "name": "ipython",
    "version": 3
   },
   "file_extension": ".py",
   "mimetype": "text/x-python",
   "name": "python",
   "nbconvert_exporter": "python",
   "pygments_lexer": "ipython3",
   "version": "3.11.9"
  }
 },
 "nbformat": 4,
 "nbformat_minor": 2
}
