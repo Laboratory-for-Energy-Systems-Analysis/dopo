{
 "cells": [
  {
   "cell_type": "code",
   "execution_count": 4,
   "metadata": {},
   "outputs": [],
   "source": [
    "import brightway2 as bw\n",
    "import bw2data as bd\n",
    "import dopo\n",
    "from dopo import*\n"
   ]
  },
  {
   "cell_type": "code",
   "execution_count": 5,
   "metadata": {},
   "outputs": [
    {
     "name": "stdout",
     "output_type": "stream",
     "text": [
      "Biosphere database already present!!! No setup is needed\n"
     ]
    }
   ],
   "source": [
    "bd.projects.set_current(\"premise-validation-try1\")\n",
    "bw.bw2setup()\n",
    "\n",
    "bio3=bw.Database('biosphere3')\n",
    "ei39=bw.Database('ecoinvent 3.9.1 cutoff')\n",
    "ei39SSP2=bw.Database('ei_cutoff_3.9_image_SSP2-RCP19_2050 2024-06-27')"
   ]
  },
  {
   "cell_type": "code",
   "execution_count": 6,
   "metadata": {},
   "outputs": [
    {
     "data": {
      "text/plain": [
       "{'method_1': {'object': Brightway2 Method: IPCC 2013: climate change: global warming potential (GWP100),\n",
       "  'method name': ('IPCC 2013',\n",
       "   'climate change',\n",
       "   'global warming potential (GWP100)'),\n",
       "  'short name': 'global warming potential (GWP100)',\n",
       "  'unit': 'kg CO2-Eq'}}"
      ]
     },
     "execution_count": 6,
     "metadata": {},
     "output_type": "execute_result"
    }
   ],
   "source": [
    "finder=dopo.methods.MethodFinder()\n",
    "\n",
    "finder.find_and_create_method(criteria=['IPCC', '2013', 'GWP100'], exclude=['no LT'])\n",
    "# finder.find_and_create_method(criteria=['EN15804','Cumulative', 'non-renewable' ])\n",
    "# finder.find_and_create_method(criteria=['land occupation','selected'])\n",
    "# finder.find_and_create_method(criteria=['EN15804','fresh water'])\n",
    "method_dict=finder.get_all_methods()\n",
    "method_dict"
   ]
  },
  {
   "cell_type": "code",
   "execution_count": 26,
   "metadata": {},
   "outputs": [
    {
     "data": {
      "text/plain": [
       "{'Clinker': {'yaml': 'C:\\\\Users\\\\fried\\\\premise_validation\\\\dopo\\\\yamls\\\\cement_steel_clinker.yaml',\n",
       "  'yaml identifier': 'Clinker'}}"
      ]
     },
     "execution_count": 26,
     "metadata": {},
     "output_type": "execute_result"
    }
   ],
   "source": [
    "files_dict={}\n",
    "files_dict['Clinker']={'yaml': r'C:\\Users\\fried\\premise_validation\\dopo\\yamls\\cement_steel_clinker.yaml', \n",
    "                      'yaml identifier': 'Clinker'} #yaml identifier is the name of the filter in the yaml file, in the first line.\n",
    "#files_dict['Steel']= {'yaml':r'C:\\Users\\fried\\premise_validation\\dopo\\yamls\\steel_small.yaml',\n",
    "                           # 'yaml identifier': 'Steel'}\n",
    "#files_dict['Fuel']={'yaml': r'C:\\Users\\fried\\premise_validation\\dopo\\yamls\\fuels_small.yaml',\n",
    "                   # 'yaml identifier': 'Fuels' } \n",
    "files_dict"
   ]
  },
  {
   "cell_type": "code",
   "execution_count": 27,
   "metadata": {},
   "outputs": [
    {
     "name": "stdout",
     "output_type": "stream",
     "text": [
      "Processing Clinker with database ei_cutoff_3.9_image_SSP2-RCP19_2050 2024-06-27\n",
      "Activities for Clinker:\n",
      "  ('ei_cutoff_3.9_image_SSP2-RCP19_2050 2024-06-27', 'd97ecce7cc2c13235fc2a239d2db7b1e')\n",
      "  ('ei_cutoff_3.9_image_SSP2-RCP19_2050 2024-06-27', '6ac3c0cfa9991b7f49bc8427de214c87')\n",
      "  ('ei_cutoff_3.9_image_SSP2-RCP19_2050 2024-06-27', 'a1fe25988545581c0a1a3dc14c9bd703')\n",
      "  ('ei_cutoff_3.9_image_SSP2-RCP19_2050 2024-06-27', '9afc6ff64b5057d4e5b6c57d6a4bc584')\n",
      "  ('ei_cutoff_3.9_image_SSP2-RCP19_2050 2024-06-27', '464b1477852d24d39a82d30d48c15235')\n",
      "  ('ei_cutoff_3.9_image_SSP2-RCP19_2050 2024-06-27', '7daf2fa9e506e92babcf867fc555b319')\n",
      "  ('ei_cutoff_3.9_image_SSP2-RCP19_2050 2024-06-27', 'b98e8c5e4e7c1dd7bd580ce67bc5e387')\n",
      "  ('ei_cutoff_3.9_image_SSP2-RCP19_2050 2024-06-27', 'e6b12fe3a84a44f96d41173737cf46ef')\n",
      "  ('ei_cutoff_3.9_image_SSP2-RCP19_2050 2024-06-27', '6370363f34fe796680af3499429857f5')\n",
      "  ('ei_cutoff_3.9_image_SSP2-RCP19_2050 2024-06-27', '728233823577bef32e1b2e3c8ecabad2')\n"
     ]
    }
   ],
   "source": [
    "#for comparison\n",
    "premise_dict = dopo.sector_filter.process_yaml_files(files_dict, ei39SSP2)\n",
    "#ecoinvent_dict = dopo.sector_filter.process_yaml_files(files_dict, ei39)\n"
   ]
  },
  {
   "cell_type": "code",
   "execution_count": 43,
   "metadata": {},
   "outputs": [
    {
     "data": {
      "text/plain": [
       "['clinker production' (kilogram, IN, None),\n",
       " 'clinker production' (kilogram, ZA, None),\n",
       " 'clinker production' (kilogram, PE, None),\n",
       " 'clinker production' (kilogram, CH, None),\n",
       " 'clinker production' (kilogram, US, None),\n",
       " 'clinker production' (kilogram, CO, None),\n",
       " 'clinker production' (kilogram, Europe without Switzerland, None),\n",
       " 'clinker production' (kilogram, CA-QC, None),\n",
       " 'clinker production' (kilogram, RoW, None),\n",
       " 'clinker production' (kilogram, BR, None)]"
      ]
     },
     "execution_count": 43,
     "metadata": {},
     "output_type": "execute_result"
    }
   ],
   "source": [
    "premise_dict['Clinker']['activities']"
   ]
  },
  {
   "cell_type": "code",
   "execution_count": 44,
   "metadata": {},
   "outputs": [
    {
     "data": {
      "text/plain": [
       "dict"
      ]
     },
     "execution_count": 44,
     "metadata": {},
     "output_type": "execute_result"
    }
   ],
   "source": [
    "type(premise_dict)"
   ]
  },
  {
   "cell_type": "code",
   "execution_count": 31,
   "metadata": {},
   "outputs": [],
   "source": [
    "premise_dict_1=premise_dict['Clinker']['activities'][0]"
   ]
  },
  {
   "cell_type": "code",
   "execution_count": 41,
   "metadata": {},
   "outputs": [],
   "source": [
    "premise_dict_small=premise_dict['Clinker']['activities'][0:3]"
   ]
  },
  {
   "cell_type": "code",
   "execution_count": 42,
   "metadata": {},
   "outputs": [
    {
     "data": {
      "text/plain": [
       "list"
      ]
     },
     "execution_count": 42,
     "metadata": {},
     "output_type": "execute_result"
    }
   ],
   "source": [
    "type(premise_dict_small)"
   ]
  },
  {
   "cell_type": "code",
   "execution_count": 45,
   "metadata": {},
   "outputs": [
    {
     "name": "stdout",
     "output_type": "stream",
     "text": [
      "Results for key: Clinker\n",
      "  Activity: 'clinker production' (kilogram, IN, None)\n",
      "    Total Exchanges: 5\n",
      "    Median Exchange Amount: 0.955\n",
      "    Exchange Amounts: [0.66, 1.0, 1.0, 0.496, 0.955]\n",
      "  Activity: 'clinker production' (kilogram, ZA, None)\n",
      "    Total Exchanges: 2\n",
      "    Median Exchange Amount: 1.0\n",
      "    Exchange Amounts: [1.0, 1.0]\n",
      "  Activity: 'clinker production' (kilogram, PE, None)\n",
      "    Total Exchanges: 2\n",
      "    Median Exchange Amount: 1.0\n",
      "    Exchange Amounts: [1.0, 1.0]\n",
      "----------------------------------------\n"
     ]
    }
   ],
   "source": [
    "import numpy as np  # To calculate the median\n",
    "\n",
    "database_name=ei39SSP2\n",
    "\n",
    "# Initialize a results dictionary to store exchange data for each key\n",
    "results = {}\n",
    "\n",
    "# Iterate over each key in the premise_dict\n",
    "for key, value in premise_dict.items():\n",
    "    # Dictionary to store exchange data for each activity under the current key\n",
    "    activities_data = {}\n",
    "\n",
    "    try:\n",
    "        # Get the list of activities for the current key\n",
    "        activities_list = premise_dict[key]['activities'][:3]\n",
    "    except KeyError:\n",
    "        print(f\"KeyError: 'activities' not found for key: {key}\")\n",
    "        continue\n",
    "\n",
    "    # Check if there are activities to process\n",
    "    if not activities_list:\n",
    "        print(f\"No activities found for key: {key}\")\n",
    "        continue\n",
    "    \n",
    "    # Iterate over each activity in the activities_list\n",
    "    for activity in activities_list:\n",
    "        # Initialize the counter and amounts list for this activity\n",
    "        exchange_count = 0\n",
    "        exchange_amounts = []\n",
    "\n",
    "        # Retrieve the unique identifier for the activity (e.g., activity.key)\n",
    "        activity_key = activity.key  # Adjust this line to match the correct attribute for key\n",
    "\n",
    "        # Loop through all activities in the database\n",
    "        for act in database_name:  # Replace 'database_name' with your actual database object\n",
    "            # Loop through all exchanges in the current activity of the database\n",
    "            for exc in act.exchanges():\n",
    "                # Compare unique keys of exchange input and activity\n",
    "                if exc.input.key == activity_key:  # Ensure we compare keys, not objects\n",
    "                    exchange_count += 1\n",
    "                    # Store the amount of the exchange\n",
    "                    exchange_amounts.append(exc['amount'])\n",
    "\n",
    "        # Calculate the median of the exchange amounts if there are any\n",
    "        median_value = np.median(exchange_amounts) if exchange_amounts else None\n",
    "        \n",
    "        # Store the exchange data for the current activity\n",
    "        activities_data[str(activity)] = {\n",
    "            \"exchange_count\": exchange_count,\n",
    "            \"exchange_amounts\": exchange_amounts,\n",
    "            \"median_exchange_amount\": median_value,\n",
    "            \"activitiy_key\": activity_key\n",
    "        }\n",
    "\n",
    "    # Store the activities data in the results dictionary under the current key\n",
    "    results[key] = activities_data\n",
    "\n",
    "# Print or process the results as needed\n",
    "for key, activity_data in results.items():\n",
    "    print(f\"Results for key: {key}\")\n",
    "    for activity, data in activity_data.items():\n",
    "        print(f\"  Activity: {activity}\")\n",
    "        print(f\"    Total Exchanges: {data['exchange_count']}\")\n",
    "        print(f\"    Median Exchange Amount: {data['median_exchange_amount']}\")\n",
    "        print(f\"    Exchange Amounts: {data['exchange_amounts']}\")\n",
    "    print(\"-\" * 40)\n"
   ]
  },
  {
   "cell_type": "code",
   "execution_count": 46,
   "metadata": {},
   "outputs": [
    {
     "data": {
      "text/plain": [
       "{'Clinker': {\"'clinker production' (kilogram, IN, None)\": {'exchange_count': 5,\n",
       "   'exchange_amounts': [0.66, 1.0, 1.0, 0.496, 0.955],\n",
       "   'median_exchange_amount': 0.955},\n",
       "  \"'clinker production' (kilogram, ZA, None)\": {'exchange_count': 2,\n",
       "   'exchange_amounts': [1.0, 1.0],\n",
       "   'median_exchange_amount': 1.0},\n",
       "  \"'clinker production' (kilogram, PE, None)\": {'exchange_count': 2,\n",
       "   'exchange_amounts': [1.0, 1.0],\n",
       "   'median_exchange_amount': 1.0}}}"
      ]
     },
     "execution_count": 46,
     "metadata": {},
     "output_type": "execute_result"
    }
   ],
   "source": [
    "results"
   ]
  },
  {
   "cell_type": "code",
   "execution_count": 19,
   "metadata": {},
   "outputs": [
    {
     "name": "stdout",
     "output_type": "stream",
     "text": [
      "Key: classifications, Type of Value: <class 'list'>, Value: [('ISIC rev.4 ecoinvent', '2394:Manufacture of cement, lime and plaster'), ('CPC', '37440: Portland cement, aluminous cement, slag cement and similar hydraulic cements, except in the form of clinkers')]\n",
      "----------------------------------------\n",
      "Key: comment, Type of Value: <class 'str'>, Value: The dataset represents an average production of cement in South Africa. The dataset describes the production of Portland cement (CEM I) and covers some relevant process steps as shown in the Figure. Portland cement production involves the chemical transformation of raw materials: calcium oxides; silica; alumina and iron oxide into various types of cementitious products, by-products and wastes. The Portland cement manufacturing process consists of four main steps: (1) Quarrying of limestone and transportation of raw materials to the processing plant. (2) Preparation of “raw meal” for pyroprocessing (3) Pyroprocessing of raw materials to produce Portland cement clinker using the dry process. (4) Final grinding of the clinker together with inter-grinding with a small proportion of gypsum to produce Portland cement. Steps (1) to (4) are not considered in dataset.\n",
      "Image: https://db3.ecoinvent.org/images/decb5103-25ff-4485-b6f9-07320ff02e47\n",
      "Geography:  The dataset represents the Portland cement production for South Africa.\n",
      "Technology:  In South Africa, all cement production is through dry kiln process. The clinker is ground in mills with gypsum (5%) and depending on the type of cement and technical standard (SAN 50197-1) with other materials such as blast furnace slag, fly ash, pozzolan and lime fillers to produce the Portland cement.\n",
      "----------------------------------------\n",
      "Key: location, Type of Value: <class 'str'>, Value: ZA\n",
      "----------------------------------------\n",
      "Key: database, Type of Value: <class 'str'>, Value: ei_cutoff_3.9_image_SSP2-RCP19_2050 2024-06-27\n",
      "----------------------------------------\n",
      "Key: code, Type of Value: <class 'str'>, Value: 86841f8c7ee2668f244d3b8e34f41932\n",
      "----------------------------------------\n",
      "Key: name, Type of Value: <class 'str'>, Value: cement production, Portland\n",
      "----------------------------------------\n",
      "Key: reference product, Type of Value: <class 'str'>, Value: cement, Portland\n",
      "----------------------------------------\n",
      "Key: unit, Type of Value: <class 'str'>, Value: kilogram\n",
      "----------------------------------------\n",
      "Key: parameters, Type of Value: <class 'list'>, Value: [{'name': 'annualProduction', 'amount': 12400000000.0}]\n",
      "----------------------------------------\n",
      "Key: parameters full, Type of Value: <class 'list'>, Value: [{'description': 'annual production', 'id': '1293672c-00a0-4d7a-9774-01462a98ec60', 'unit': 'kilogram', 'comment': \"Total production volume of hydraulic cement in South Africa in 2019: 12'400'000 ton. Source: USGS (2019). U.S. Geological Survey, Minerals Yearbook Annual Tables, 2019. Available at: <https://www.usgs.gov/centers/national-minerals-information-center/cement-statistics-and-information>\", 'amount': 12400000000.0, 'pedigree': {'reliability': 5, 'completeness': 5, 'temporal correlation': 5, 'geographical correlation': 5, 'further technological correlation': 5}, 'uncertainty type': 2, 'loc': 23.241, 'scale': 0.458257569495584, 'scale without pedigree': 0.0, 'name': 'annualProduction'}]\n",
      "----------------------------------------\n"
     ]
    }
   ],
   "source": [
    "# Debugging code to inspect the structure of main_dict\n",
    "for key, value in premise_dict.items():\n",
    "    print(f\"Key: {key}, Type of Value: {type(value)}, Value: {value}\")\n",
    "    print(\"-\" * 40)\n"
   ]
  },
  {
   "cell_type": "code",
   "execution_count": 8,
   "metadata": {},
   "outputs": [
    {
     "name": "stdout",
     "output_type": "stream",
     "text": [
      "ei_cutoff_3.9_image_SSP2-RCP19_2050 2024-06-27\n"
     ]
    }
   ],
   "source": [
    "key = ('ei_cutoff_3.9_image_SSP2-RCP19_2050 2024-06-27', '4fbb4cf48eb2fd3dd8cef6069e5223ce')\n",
    "\n",
    "# Extract the first string from the tuple\n",
    "first_string = key[0]\n",
    "\n",
    "# Split by underscores and take the first part\n",
    "database_name = first_string.split('_')[0]\n",
    "\n",
    "print(first_string)"
   ]
  },
  {
   "cell_type": "code",
   "execution_count": 12,
   "metadata": {},
   "outputs": [
    {
     "name": "stdout",
     "output_type": "stream",
     "text": [
      "The activity '('ei_cutoff_3.9_image_SSP2-RCP19_2050 2024-06-27', 'c38f699f4ad0e18953c86ede8d9a611a')' is used as an exchange 2 times in the 'Brightway2 SQLiteBackend: ei_cutoff_3.9_image_SSP2-RCP19_2050 2024-06-27' database.\n",
      "Exchange amounts: [0.04699399422050376, 1.0]\n",
      "The median of the exchange amounts is: 0.5234969971102519\n"
     ]
    }
   ],
   "source": [
    "import numpy as np \n",
    "\n",
    "database_name=ei39SSP2\n",
    "activity_key=('ei_cutoff_3.9_image_SSP2-RCP19_2050 2024-06-27',\n",
    " 'c38f699f4ad0e18953c86ede8d9a611a')\n",
    "\n",
    "# Initialize the counter\n",
    "exchange_count = 0\n",
    "exchange_amounts = []\n",
    "\n",
    "# Loop through all activities in the database\n",
    "for act in database_name:\n",
    "    # Loop through all exchanges in the current activity\n",
    "    for exc in act.exchanges():\n",
    "        # Check if the input of the exchange matches the activity key\n",
    "        if exc.input == activity_key:\n",
    "            exchange_count += 1\n",
    "            # Store the amount of the exchange\n",
    "            exchange_amounts.append(exc['amount'])\n",
    "\n",
    "# Print the total count of exchanges\n",
    "print(f\"The activity '{activity_key}' is used as an exchange {exchange_count} times in the '{database_name}' database.\")\n",
    "\n",
    "# Print the amounts of the exchanges\n",
    "print(f\"Exchange amounts: {exchange_amounts}\")\n",
    "\n",
    "# Calculate and print the median of the exchange amounts\n",
    "if exchange_amounts:\n",
    "    median_amount = np.median(exchange_amounts)\n",
    "    print(f\"The median of the exchange amounts is: {median_amount}\")\n",
    "else:\n",
    "    print(\"No exchanges found for the specified activity.\")"
   ]
  }
 ],
 "metadata": {
  "kernelspec": {
   "display_name": "premise",
   "language": "python",
   "name": "python3"
  },
  "language_info": {
   "codemirror_mode": {
    "name": "ipython",
    "version": 3
   },
   "file_extension": ".py",
   "mimetype": "text/x-python",
   "name": "python",
   "nbconvert_exporter": "python",
   "pygments_lexer": "ipython3",
   "version": "3.11.9"
  }
 },
 "nbformat": 4,
 "nbformat_minor": 2
}
