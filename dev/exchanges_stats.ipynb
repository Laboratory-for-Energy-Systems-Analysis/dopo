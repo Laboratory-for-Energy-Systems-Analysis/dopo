{
 "cells": [
  {
   "cell_type": "code",
   "execution_count": 1,
   "metadata": {},
   "outputs": [],
   "source": [
    "import brightway2 as bw\n",
    "import bw2data as bd\n"
   ]
  },
  {
   "cell_type": "code",
   "execution_count": 2,
   "metadata": {},
   "outputs": [
    {
     "name": "stdout",
     "output_type": "stream",
     "text": [
      "Biosphere database already present!!! No setup is needed\n"
     ]
    }
   ],
   "source": [
    "bd.projects.set_current(\"premise-validation-try1\")\n",
    "bw.bw2setup()\n",
    "\n",
    "bio3=bw.Database('biosphere3')\n",
    "ei39=bw.Database('ecoinvent 3.9.1 cutoff')\n",
    "ei39SSP2=bw.Database('ei_cutoff_3.9_image_SSP2-RCP19_2050 2024-06-27')"
   ]
  },
  {
   "cell_type": "code",
   "execution_count": 3,
   "metadata": {},
   "outputs": [],
   "source": [
    "random_act=ei39SSP2.random()"
   ]
  },
  {
   "cell_type": "code",
   "execution_count": 4,
   "metadata": {},
   "outputs": [
    {
     "data": {
      "text/plain": [
       "Brightway2 SQLiteBackend: ei_cutoff_3.9_image_SSP2-RCP19_2050 2024-06-27"
      ]
     },
     "execution_count": 4,
     "metadata": {},
     "output_type": "execute_result"
    }
   ],
   "source": [
    "ei39SSP2"
   ]
  },
  {
   "cell_type": "code",
   "execution_count": 8,
   "metadata": {},
   "outputs": [
    {
     "name": "stdout",
     "output_type": "stream",
     "text": [
      "ei_cutoff_3.9_image_SSP2-RCP19_2050 2024-06-27\n"
     ]
    }
   ],
   "source": [
    "key = ('ei_cutoff_3.9_image_SSP2-RCP19_2050 2024-06-27', '4fbb4cf48eb2fd3dd8cef6069e5223ce')\n",
    "\n",
    "# Extract the first string from the tuple\n",
    "first_string = key[0]\n",
    "\n",
    "# Split by underscores and take the first part\n",
    "database_name = first_string.split('_')[0]\n",
    "\n",
    "print(first_string)"
   ]
  },
  {
   "cell_type": "code",
   "execution_count": null,
   "metadata": {},
   "outputs": [],
   "source": [
    "#Loop through all databse activities and get their exchanges to check if exchange matches with the activitiy of interest"
   ]
  },
  {
   "cell_type": "code",
   "execution_count": 5,
   "metadata": {},
   "outputs": [
    {
     "data": {
      "text/plain": [
       "('ei_cutoff_3.9_image_SSP2-RCP19_2050 2024-06-27',\n",
       " '9e4ed9ef2d664168a8c760482a7c2f93')"
      ]
     },
     "execution_count": 5,
     "metadata": {},
     "output_type": "execute_result"
    }
   ],
   "source": [
    "random_act.key"
   ]
  },
  {
   "cell_type": "code",
   "execution_count": 32,
   "metadata": {},
   "outputs": [
    {
     "name": "stdout",
     "output_type": "stream",
     "text": [
      "Exchange: 1.0 unit 'heat and power co-generation unit construction, 200kW electrical, components for electricity only' (unit, RoW, None) to 'heat and power co-generation unit construction, 200kW electrical, components for electricity only' (unit, RoW, None)>\n",
      "Exchange: 1.0 unit 'market for assembly of generator and motor, auxilliaries and energy use, heat and power co-generation unit, 160kW' (unit, GLO, None) to 'heat and power co-generation unit construction, 200kW electrical, components for electricity only' (unit, RoW, None)>\n",
      "Exchange: 1.0 unit 'market for electric parts, heat and power co-generation unit, 160kW electrical' (unit, GLO, None) to 'heat and power co-generation unit construction, 200kW electrical, components for electricity only' (unit, RoW, None)>\n",
      "Exchange: 1.25 unit 'market for generator, 200kW electrical' (unit, GLO, None) to 'heat and power co-generation unit construction, 200kW electrical, components for electricity only' (unit, RoW, None)>\n"
     ]
    },
    {
     "data": {
      "text/plain": [
       "Exchange: 1.25 unit 'market for generator, 200kW electrical' (unit, GLO, None) to 'heat and power co-generation unit construction, 200kW electrical, components for electricity only' (unit, RoW, None)>"
      ]
     },
     "execution_count": 32,
     "metadata": {},
     "output_type": "execute_result"
    }
   ],
   "source": [
    "#\n",
    "exchanges_temp={}\n",
    "for ex in random_act.exchanges():\n",
    "    exchanges_temp=ex\n",
    "    print(exchanges_temp)"
   ]
  },
  {
   "cell_type": "code",
   "execution_count": 28,
   "metadata": {},
   "outputs": [
    {
     "data": {
      "text/plain": [
       "Exchange: 1.25 unit 'market for generator, 200kW electrical' (unit, GLO, None) to 'heat and power co-generation unit construction, 200kW electrical, components for electricity only' (unit, RoW, None)>"
      ]
     },
     "execution_count": 28,
     "metadata": {},
     "output_type": "execute_result"
    }
   ],
   "source": [
    "exchanges_temp"
   ]
  },
  {
   "cell_type": "code",
   "execution_count": 25,
   "metadata": {},
   "outputs": [
    {
     "data": {
      "text/plain": [
       "'heat and power co-generation unit construction, 200kW electrical, components for electricity only' (unit, RoW, None)"
      ]
     },
     "execution_count": 25,
     "metadata": {},
     "output_type": "execute_result"
    }
   ],
   "source": [
    "random_act"
   ]
  },
  {
   "cell_type": "code",
   "execution_count": 26,
   "metadata": {},
   "outputs": [
    {
     "data": {
      "text/plain": [
       "[]"
      ]
     },
     "execution_count": 26,
     "metadata": {},
     "output_type": "execute_result"
    }
   ],
   "source": [
    "[act for act in ei39SSP2 if str(random_act) in str(act.exchanges())]"
   ]
  },
  {
   "cell_type": "code",
   "execution_count": null,
   "metadata": {},
   "outputs": [],
   "source": [
    "def exchanges_stats():\n",
    "\n",
    "    exchange_count= 0\n",
    "    exchange_amounts= []\n",
    "\n",
    "    for worksheet in workbook:\n",
    "        act_key_col=column_positions.get...\n",
    "        for act_key_col, act_key in database:\n",
    "            for exc in act.exchanges():\n",
    "                if exc.input == act_key;\n",
    "                    exchange_count += 1\n",
    "\n",
    "                    \n",
    "\n",
    "\n",
    "\n"
   ]
  },
  {
   "cell_type": "code",
   "execution_count": 33,
   "metadata": {},
   "outputs": [
    {
     "name": "stdout",
     "output_type": "stream",
     "text": [
      "The activity '('ei_cutoff_3.9_image_SSP2-RCP19_2050 2024-06-27', '96dacbe557075cab69f6364e420b7c47')' is used as an exchange 2 times in the 'Brightway2 SQLiteBackend: ei_cutoff_3.9_image_SSP2-RCP19_2050 2024-06-27' database.\n"
     ]
    }
   ],
   "source": [
    "database_name=ei39SSP2\n",
    "activity_key=random_act.key\n",
    "\n",
    "# Initialize the counter\n",
    "exchange_count = 0\n",
    "exchange_amounts = []\n",
    "\n",
    "# Loop through all activities in the database\n",
    "for act in database_name:\n",
    "    # Loop through all exchanges in the current activity\n",
    "    for exc in act.exchanges():\n",
    "        # Check if the input of the exchange matches the activity key\n",
    "        if exc.input == activity_key:\n",
    "            exchange_count += 1\n",
    "\n",
    "            exchange_amounts.append(exc['amount'])\n",
    "\n",
    "            \n",
    "\n",
    "\n",
    "# Print the total count of exchanges\n",
    "print(f\"The activity '{activity_key}' is used as an exchange {exchange_count} times in the '{database_name}' database.\")\n"
   ]
  },
  {
   "cell_type": "code",
   "execution_count": 4,
   "metadata": {},
   "outputs": [
    {
     "name": "stdout",
     "output_type": "stream",
     "text": [
      "The activity '('ei_cutoff_3.9_image_SSP2-RCP19_2050 2024-06-27', '3c16b45db40210cd97de6574b2f47aaf')' is used as an exchange 2 times in the 'Brightway2 SQLiteBackend: ei_cutoff_3.9_image_SSP2-RCP19_2050 2024-06-27' database.\n",
      "Exchange amounts: [1.0, 1.0]\n",
      "The median of the exchange amounts is: 1.0\n"
     ]
    }
   ],
   "source": [
    "import numpy as np \n",
    "\n",
    "database_name=ei39SSP2\n",
    "activity_key=('ei_cutoff_3.9_image_SSP2-RCP19_2050 2024-06-27', '3c16b45db40210cd97de6574b2f47aaf')\n",
    "\n",
    "# Initialize the counter\n",
    "exchange_count = 0\n",
    "exchange_amounts = []\n",
    "\n",
    "# Loop through all activities in the database\n",
    "for act in database_name:\n",
    "    # Loop through all exchanges in the current activity\n",
    "    for exc in act.exchanges():\n",
    "        # Check if the input of the exchange matches the activity key\n",
    "        if exc.input == activity_key:\n",
    "            exchange_count += 1\n",
    "            # Store the amount of the exchange\n",
    "            exchange_amounts.append(exc['amount'])\n",
    "\n",
    "# Print the total count of exchanges\n",
    "print(f\"The activity '{activity_key}' is used as an exchange {exchange_count} times in the '{database_name}' database.\")\n",
    "\n",
    "# Print the amounts of the exchanges\n",
    "print(f\"Exchange amounts: {exchange_amounts}\")\n",
    "\n",
    "# Calculate and print the median of the exchange amounts\n",
    "if exchange_amounts:\n",
    "    median_amount = np.median(exchange_amounts)\n",
    "    print(f\"The median of the exchange amounts is: {median_amount}\")\n",
    "else:\n",
    "    print(\"No exchanges found for the specified activity.\")"
   ]
  },
  {
   "cell_type": "code",
   "execution_count": null,
   "metadata": {},
   "outputs": [],
   "source": []
  },
  {
   "cell_type": "code",
   "execution_count": 5,
   "metadata": {},
   "outputs": [
    {
     "ename": "KeyboardInterrupt",
     "evalue": "",
     "output_type": "error",
     "traceback": [
      "\u001b[1;31m---------------------------------------------------------------------------\u001b[0m",
      "\u001b[1;31mKeyboardInterrupt\u001b[0m                         Traceback (most recent call last)",
      "Cell \u001b[1;32mIn[5], line 33\u001b[0m\n\u001b[0;32m     29\u001b[0m \u001b[38;5;28;01mfor\u001b[39;00m act \u001b[38;5;129;01min\u001b[39;00m database_name:\n\u001b[0;32m     30\u001b[0m     \u001b[38;5;66;03m# Loop through all exchanges in the current activity\u001b[39;00m\n\u001b[0;32m     31\u001b[0m     \u001b[38;5;28;01mfor\u001b[39;00m exc \u001b[38;5;129;01min\u001b[39;00m act\u001b[38;5;241m.\u001b[39mexchanges():\n\u001b[0;32m     32\u001b[0m         \u001b[38;5;66;03m# Check if the input of the exchange matches the activity key\u001b[39;00m\n\u001b[1;32m---> 33\u001b[0m         \u001b[38;5;28;01mif\u001b[39;00m exc\u001b[38;5;241m.\u001b[39minput \u001b[38;5;241m==\u001b[39m activity_key:\n\u001b[0;32m     34\u001b[0m             exchange_count \u001b[38;5;241m+\u001b[39m\u001b[38;5;241m=\u001b[39m \u001b[38;5;241m1\u001b[39m\n\u001b[0;32m     35\u001b[0m             \u001b[38;5;66;03m# Store the amount of the exchange\u001b[39;00m\n",
      "File \u001b[1;32mc:\\Users\\fried\\miniconda3\\envs\\premise\\Lib\\site-packages\\bw2data\\proxies.py:151\u001b[0m, in \u001b[0;36mExchangeProxyBase._get_input\u001b[1;34m(self)\u001b[0m\n\u001b[0;32m    149\u001b[0m     \u001b[38;5;28;01mraise\u001b[39;00m InvalidExchange(\u001b[38;5;124m\"\u001b[39m\u001b[38;5;124mMissing valid data for `input` field\u001b[39m\u001b[38;5;124m\"\u001b[39m)\n\u001b[0;32m    150\u001b[0m \u001b[38;5;28;01melif\u001b[39;00m \u001b[38;5;129;01mnot\u001b[39;00m \u001b[38;5;28mhasattr\u001b[39m(\u001b[38;5;28mself\u001b[39m, \u001b[38;5;124m\"\u001b[39m\u001b[38;5;124m_input\u001b[39m\u001b[38;5;124m\"\u001b[39m):\n\u001b[1;32m--> 151\u001b[0m     \u001b[38;5;28mself\u001b[39m\u001b[38;5;241m.\u001b[39m_input \u001b[38;5;241m=\u001b[39m get_activity(\u001b[38;5;28mself\u001b[39m[\u001b[38;5;124m'\u001b[39m\u001b[38;5;124minput\u001b[39m\u001b[38;5;124m'\u001b[39m])\n\u001b[0;32m    152\u001b[0m \u001b[38;5;28;01mreturn\u001b[39;00m \u001b[38;5;28mself\u001b[39m\u001b[38;5;241m.\u001b[39m_input\n",
      "File \u001b[1;32mc:\\Users\\fried\\miniconda3\\envs\\premise\\Lib\\site-packages\\bw2data\\utils.py:335\u001b[0m, in \u001b[0;36mget_activity\u001b[1;34m(key)\u001b[0m\n\u001b[0;32m    333\u001b[0m \u001b[38;5;28;01mfrom\u001b[39;00m \u001b[38;5;21;01m.\u001b[39;00m\u001b[38;5;21;01mdatabase\u001b[39;00m \u001b[38;5;28;01mimport\u001b[39;00m Database\n\u001b[0;32m    334\u001b[0m \u001b[38;5;28;01mtry\u001b[39;00m:\n\u001b[1;32m--> 335\u001b[0m     \u001b[38;5;28;01mreturn\u001b[39;00m Database(key[\u001b[38;5;241m0\u001b[39m])\u001b[38;5;241m.\u001b[39mget(key[\u001b[38;5;241m1\u001b[39m])\n\u001b[0;32m    336\u001b[0m \u001b[38;5;28;01mexcept\u001b[39;00m \u001b[38;5;167;01mTypeError\u001b[39;00m:\n\u001b[0;32m    337\u001b[0m     \u001b[38;5;28;01mraise\u001b[39;00m UnknownObject(\u001b[38;5;124m\"\u001b[39m\u001b[38;5;124mKey \u001b[39m\u001b[38;5;132;01m{}\u001b[39;00m\u001b[38;5;124m cannot be understood as an activity\u001b[39m\u001b[38;5;124m\"\u001b[39m\n\u001b[0;32m    338\u001b[0m                         \u001b[38;5;124m\"\u001b[39m\u001b[38;5;124m or `(database, code)` tuple.\u001b[39m\u001b[38;5;124m\"\u001b[39m)\n",
      "File \u001b[1;32mc:\\Users\\fried\\miniconda3\\envs\\premise\\Lib\\site-packages\\bw2data\\backends\\peewee\\database.py:133\u001b[0m, in \u001b[0;36mSQLiteBackend.get\u001b[1;34m(self, code)\u001b[0m\n\u001b[0;32m    130\u001b[0m \u001b[38;5;28;01mdef\u001b[39;00m \u001b[38;5;21mget\u001b[39m(\u001b[38;5;28mself\u001b[39m, code):\n\u001b[0;32m    131\u001b[0m     \u001b[38;5;28;01mreturn\u001b[39;00m Activity(\n\u001b[0;32m    132\u001b[0m         \u001b[38;5;28mself\u001b[39m\u001b[38;5;241m.\u001b[39m_get_queryset(filters\u001b[38;5;241m=\u001b[39m\u001b[38;5;28;01mFalse\u001b[39;00m)\u001b[38;5;241m.\u001b[39mwhere(\n\u001b[1;32m--> 133\u001b[0m             ActivityDataset\u001b[38;5;241m.\u001b[39mcode \u001b[38;5;241m==\u001b[39m code)\u001b[38;5;241m.\u001b[39mget()\n\u001b[0;32m    134\u001b[0m     )\n",
      "File \u001b[1;32mc:\\Users\\fried\\miniconda3\\envs\\premise\\Lib\\site-packages\\peewee.py:7285\u001b[0m, in \u001b[0;36mBaseModelSelect.get\u001b[1;34m(self, database)\u001b[0m\n\u001b[0;32m   7283\u001b[0m clone\u001b[38;5;241m.\u001b[39m_cursor_wrapper \u001b[38;5;241m=\u001b[39m \u001b[38;5;28;01mNone\u001b[39;00m\n\u001b[0;32m   7284\u001b[0m \u001b[38;5;28;01mtry\u001b[39;00m:\n\u001b[1;32m-> 7285\u001b[0m     \u001b[38;5;28;01mreturn\u001b[39;00m clone\u001b[38;5;241m.\u001b[39mexecute(database)[\u001b[38;5;241m0\u001b[39m]\n\u001b[0;32m   7286\u001b[0m \u001b[38;5;28;01mexcept\u001b[39;00m \u001b[38;5;167;01mIndexError\u001b[39;00m:\n\u001b[0;32m   7287\u001b[0m     sql, params \u001b[38;5;241m=\u001b[39m clone\u001b[38;5;241m.\u001b[39msql()\n",
      "File \u001b[1;32mc:\\Users\\fried\\miniconda3\\envs\\premise\\Lib\\site-packages\\peewee.py:4580\u001b[0m, in \u001b[0;36mCursorWrapper.__getitem__\u001b[1;34m(self, item)\u001b[0m\n\u001b[0;32m   4578\u001b[0m     \u001b[38;5;28;01mreturn\u001b[39;00m \u001b[38;5;28mself\u001b[39m\u001b[38;5;241m.\u001b[39mrow_cache[item]\n\u001b[0;32m   4579\u001b[0m \u001b[38;5;28;01melif\u001b[39;00m \u001b[38;5;28misinstance\u001b[39m(item, \u001b[38;5;28mint\u001b[39m):\n\u001b[1;32m-> 4580\u001b[0m     \u001b[38;5;28mself\u001b[39m\u001b[38;5;241m.\u001b[39mfill_cache(item \u001b[38;5;28;01mif\u001b[39;00m item \u001b[38;5;241m>\u001b[39m \u001b[38;5;241m0\u001b[39m \u001b[38;5;28;01melse\u001b[39;00m \u001b[38;5;241m0\u001b[39m)\n\u001b[0;32m   4581\u001b[0m     \u001b[38;5;28;01mreturn\u001b[39;00m \u001b[38;5;28mself\u001b[39m\u001b[38;5;241m.\u001b[39mrow_cache[item]\n\u001b[0;32m   4582\u001b[0m \u001b[38;5;28;01melse\u001b[39;00m:\n",
      "File \u001b[1;32mc:\\Users\\fried\\miniconda3\\envs\\premise\\Lib\\site-packages\\peewee.py:4628\u001b[0m, in \u001b[0;36mCursorWrapper.fill_cache\u001b[1;34m(self, n)\u001b[0m\n\u001b[0;32m   4626\u001b[0m \u001b[38;5;28;01mwhile\u001b[39;00m \u001b[38;5;129;01mnot\u001b[39;00m \u001b[38;5;28mself\u001b[39m\u001b[38;5;241m.\u001b[39mpopulated \u001b[38;5;129;01mand\u001b[39;00m (n \u001b[38;5;241m>\u001b[39m \u001b[38;5;28mself\u001b[39m\u001b[38;5;241m.\u001b[39mcount):\n\u001b[0;32m   4627\u001b[0m     \u001b[38;5;28;01mtry\u001b[39;00m:\n\u001b[1;32m-> 4628\u001b[0m         iterator\u001b[38;5;241m.\u001b[39mnext()\n\u001b[0;32m   4629\u001b[0m     \u001b[38;5;28;01mexcept\u001b[39;00m \u001b[38;5;167;01mStopIteration\u001b[39;00m:\n\u001b[0;32m   4630\u001b[0m         \u001b[38;5;28;01mbreak\u001b[39;00m\n",
      "File \u001b[1;32mc:\\Users\\fried\\miniconda3\\envs\\premise\\Lib\\site-packages\\peewee.py:4683\u001b[0m, in \u001b[0;36mResultIterator.next\u001b[1;34m(self)\u001b[0m\n\u001b[0;32m   4681\u001b[0m     obj \u001b[38;5;241m=\u001b[39m \u001b[38;5;28mself\u001b[39m\u001b[38;5;241m.\u001b[39mcursor_wrapper\u001b[38;5;241m.\u001b[39mrow_cache[\u001b[38;5;28mself\u001b[39m\u001b[38;5;241m.\u001b[39mindex]\n\u001b[0;32m   4682\u001b[0m \u001b[38;5;28;01melif\u001b[39;00m \u001b[38;5;129;01mnot\u001b[39;00m \u001b[38;5;28mself\u001b[39m\u001b[38;5;241m.\u001b[39mcursor_wrapper\u001b[38;5;241m.\u001b[39mpopulated:\n\u001b[1;32m-> 4683\u001b[0m     \u001b[38;5;28mself\u001b[39m\u001b[38;5;241m.\u001b[39mcursor_wrapper\u001b[38;5;241m.\u001b[39miterate()\n\u001b[0;32m   4684\u001b[0m     obj \u001b[38;5;241m=\u001b[39m \u001b[38;5;28mself\u001b[39m\u001b[38;5;241m.\u001b[39mcursor_wrapper\u001b[38;5;241m.\u001b[39mrow_cache[\u001b[38;5;28mself\u001b[39m\u001b[38;5;241m.\u001b[39mindex]\n\u001b[0;32m   4685\u001b[0m \u001b[38;5;28;01melse\u001b[39;00m:\n",
      "File \u001b[1;32mc:\\Users\\fried\\miniconda3\\envs\\premise\\Lib\\site-packages\\peewee.py:4594\u001b[0m, in \u001b[0;36mCursorWrapper.iterate\u001b[1;34m(self, cache)\u001b[0m\n\u001b[0;32m   4593\u001b[0m \u001b[38;5;28;01mdef\u001b[39;00m \u001b[38;5;21miterate\u001b[39m(\u001b[38;5;28mself\u001b[39m, cache\u001b[38;5;241m=\u001b[39m\u001b[38;5;28;01mTrue\u001b[39;00m):\n\u001b[1;32m-> 4594\u001b[0m     row \u001b[38;5;241m=\u001b[39m \u001b[38;5;28mself\u001b[39m\u001b[38;5;241m.\u001b[39mcursor\u001b[38;5;241m.\u001b[39mfetchone()\n\u001b[0;32m   4595\u001b[0m     \u001b[38;5;28;01mif\u001b[39;00m row \u001b[38;5;129;01mis\u001b[39;00m \u001b[38;5;28;01mNone\u001b[39;00m:\n\u001b[0;32m   4596\u001b[0m         \u001b[38;5;28mself\u001b[39m\u001b[38;5;241m.\u001b[39mpopulated \u001b[38;5;241m=\u001b[39m \u001b[38;5;28;01mTrue\u001b[39;00m\n",
      "\u001b[1;31mKeyboardInterrupt\u001b[0m: "
     ]
    }
   ],
   "source": [
    "# In excel\n",
    "\n",
    "import pandas as pd\n",
    "import numpy as np\n",
    "\n",
    "# Step 1: Read the Excel file into a DataFrame\n",
    "file_path = r'C:\\Users\\fried\\premise_validation\\dopo\\0309_v13.xlsx'  # Replace with your actual file path\n",
    "sheet_name = 'Cement_global_warming_potential'  # Replace with your actual sheet name\n",
    "\n",
    "# Read the Excel file (make sure to have the 'openpyxl' package installed for .xlsx files)\n",
    "df = pd.read_excel(file_path, sheet_name=sheet_name)\n",
    "\n",
    "# Step 2: Initialize the new columns\n",
    "df['Exchange Count'] = 0\n",
    "df['Exchange Amounts'] = None  # Using None for initializing the amounts as lists\n",
    "\n",
    "# Your database and function remain the same\n",
    "database_name = ei39SSP2  # Replace with actual database object\n",
    "\n",
    "# Step 3: Apply the function to each activity key in the DataFrame\n",
    "for index, row in df.iterrows():\n",
    "    activity_key = row['activity key']  # Replace 'Activity Key' with the actual column name containing activity keys\n",
    "    \n",
    "    # Initialize the counter\n",
    "    exchange_count = 0\n",
    "    exchange_amounts = []\n",
    "    \n",
    "    # Loop through all activities in the database\n",
    "    for act in database_name:\n",
    "        # Loop through all exchanges in the current activity\n",
    "        for exc in act.exchanges():\n",
    "            # Check if the input of the exchange matches the activity key\n",
    "            if exc.input == activity_key:\n",
    "                exchange_count += 1\n",
    "                # Store the amount of the exchange\n",
    "                exchange_amounts.append(exc['amount'])\n",
    "                print(exchange_count)\n",
    "    \n",
    "    # Store the computed values in the DataFrame\n",
    "    df.at[index, 'Exchange Count'] = exchange_count\n",
    "    df.at[index, 'Exchange Amounts'] = exchange_amounts\n",
    "\n",
    "# Calculate median for exchange amounts and add it as another column\n",
    "df['Median Exchange Amount'] = df['Exchange Amounts'].apply(lambda x: np.median(x) if x else None)\n",
    "\n",
    "# Step 4: Save the updated DataFrame back to Excel\n",
    "df.to_excel('your_updated_excel_file.xlsx', sheet_name=sheet_name, index=False)\n"
   ]
  },
  {
   "cell_type": "code",
   "execution_count": 8,
   "metadata": {},
   "outputs": [
    {
     "name": "stdout",
     "output_type": "stream",
     "text": [
      "Processing activity key: ('ei_cutoff_3.9_image_SSP2-RCP19_2050 2024-06-27', '3c16b45db40210cd97de6574b2f47aaf')\n",
      "Exchange count for ('ei_cutoff_3.9_image_SSP2-RCP19_2050 2024-06-27', '3c16b45db40210cd97de6574b2f47aaf'): 0\n",
      "Processing activity key: ('ei_cutoff_3.9_image_SSP2-RCP19_2050 2024-06-27', 'fcb666edf2a01467e555eeff5b4a5bbb')\n",
      "Exchange count for ('ei_cutoff_3.9_image_SSP2-RCP19_2050 2024-06-27', 'fcb666edf2a01467e555eeff5b4a5bbb'): 0\n",
      "Processing complete. Updated Excel file saved.\n"
     ]
    }
   ],
   "source": [
    "import pandas as pd\n",
    "import numpy as np\n",
    "\n",
    "# Step 1: Read the Excel file into a DataFrame\n",
    "file_path = r'C:\\Users\\fried\\premise_validation\\dopo\\0309_v13.xlsx'\n",
    "sheet_name = 'Cement_global_warming_potential'\n",
    "df = pd.read_excel(file_path, sheet_name=sheet_name)\n",
    "\n",
    "# Step 2: Initialize the new columns\n",
    "df['Exchange Count'] = 0\n",
    "df['Exchange Amounts'] = [[] for _ in range(len(df))]  # Initialize with empty lists\n",
    "\n",
    "# Assuming ei39SSP2 is your database object\n",
    "database_name = ei39SSP2\n",
    "\n",
    "# Step 3: Apply the function to each activity key in the DataFrame\n",
    "for index, row in df.iterrows():\n",
    "    activity_key = row['activity key']\n",
    "    print(f\"Processing activity key: {activity_key}\")\n",
    "    \n",
    "    exchange_count = 0\n",
    "    exchange_amounts = []\n",
    "    \n",
    "    for act in database_name:\n",
    "        for exc in act.exchanges():\n",
    "            if exc.input == activity_key:\n",
    "                exchange_count += 1\n",
    "                exchange_amounts.append(exc['amount'])\n",
    "    \n",
    "    df.at[index, 'Exchange Count'] = exchange_count\n",
    "    df.at[index, 'Exchange Amounts'] = exchange_amounts\n",
    "    print(f\"Exchange count for {activity_key}: {exchange_count}\")\n",
    "\n",
    "# Calculate median for exchange amounts and add it as another column\n",
    "df['Median Exchange Amount'] = df['Exchange Amounts'].apply(lambda x: np.median(x) if x else None)\n",
    "\n",
    "# Step 4: Save the updated DataFrame back to Excel\n",
    "df.to_excel('your_updated_excel_file_v4.xlsx', sheet_name=sheet_name, index=False)\n",
    "\n",
    "print(\"Processing complete. Updated Excel file saved.\")"
   ]
  },
  {
   "cell_type": "code",
   "execution_count": 9,
   "metadata": {},
   "outputs": [
    {
     "name": "stdout",
     "output_type": "stream",
     "text": [
      "Processing activity key: ('ei_cutoff_3.9_image_SSP2-RCP19_2050 2024-06-27', '3c16b45db40210cd97de6574b2f47aaf')\n"
     ]
    },
    {
     "ename": "KeyboardInterrupt",
     "evalue": "",
     "output_type": "error",
     "traceback": [
      "\u001b[1;31m---------------------------------------------------------------------------\u001b[0m",
      "\u001b[1;31mKeyboardInterrupt\u001b[0m                         Traceback (most recent call last)",
      "Cell \u001b[1;32mIn[9], line 26\u001b[0m\n\u001b[0;32m     24\u001b[0m \u001b[38;5;28;01mfor\u001b[39;00m act \u001b[38;5;129;01min\u001b[39;00m database_name:\n\u001b[0;32m     25\u001b[0m     \u001b[38;5;28;01mfor\u001b[39;00m exc \u001b[38;5;129;01min\u001b[39;00m act\u001b[38;5;241m.\u001b[39mexchanges():\n\u001b[1;32m---> 26\u001b[0m         \u001b[38;5;28;01mif\u001b[39;00m exc\u001b[38;5;241m.\u001b[39minput \u001b[38;5;241m==\u001b[39m activity_key:\n\u001b[0;32m     27\u001b[0m             exchange_count \u001b[38;5;241m+\u001b[39m\u001b[38;5;241m=\u001b[39m \u001b[38;5;241m1\u001b[39m\n\u001b[0;32m     28\u001b[0m             exchange_amounts\u001b[38;5;241m.\u001b[39mappend(exc[\u001b[38;5;124m'\u001b[39m\u001b[38;5;124mamount\u001b[39m\u001b[38;5;124m'\u001b[39m])\n",
      "File \u001b[1;32mc:\\Users\\fried\\miniconda3\\envs\\premise\\Lib\\site-packages\\bw2data\\proxies.py:151\u001b[0m, in \u001b[0;36mExchangeProxyBase._get_input\u001b[1;34m(self)\u001b[0m\n\u001b[0;32m    149\u001b[0m     \u001b[38;5;28;01mraise\u001b[39;00m InvalidExchange(\u001b[38;5;124m\"\u001b[39m\u001b[38;5;124mMissing valid data for `input` field\u001b[39m\u001b[38;5;124m\"\u001b[39m)\n\u001b[0;32m    150\u001b[0m \u001b[38;5;28;01melif\u001b[39;00m \u001b[38;5;129;01mnot\u001b[39;00m \u001b[38;5;28mhasattr\u001b[39m(\u001b[38;5;28mself\u001b[39m, \u001b[38;5;124m\"\u001b[39m\u001b[38;5;124m_input\u001b[39m\u001b[38;5;124m\"\u001b[39m):\n\u001b[1;32m--> 151\u001b[0m     \u001b[38;5;28mself\u001b[39m\u001b[38;5;241m.\u001b[39m_input \u001b[38;5;241m=\u001b[39m get_activity(\u001b[38;5;28mself\u001b[39m[\u001b[38;5;124m'\u001b[39m\u001b[38;5;124minput\u001b[39m\u001b[38;5;124m'\u001b[39m])\n\u001b[0;32m    152\u001b[0m \u001b[38;5;28;01mreturn\u001b[39;00m \u001b[38;5;28mself\u001b[39m\u001b[38;5;241m.\u001b[39m_input\n",
      "File \u001b[1;32mc:\\Users\\fried\\miniconda3\\envs\\premise\\Lib\\site-packages\\bw2data\\utils.py:335\u001b[0m, in \u001b[0;36mget_activity\u001b[1;34m(key)\u001b[0m\n\u001b[0;32m    333\u001b[0m \u001b[38;5;28;01mfrom\u001b[39;00m \u001b[38;5;21;01m.\u001b[39;00m\u001b[38;5;21;01mdatabase\u001b[39;00m \u001b[38;5;28;01mimport\u001b[39;00m Database\n\u001b[0;32m    334\u001b[0m \u001b[38;5;28;01mtry\u001b[39;00m:\n\u001b[1;32m--> 335\u001b[0m     \u001b[38;5;28;01mreturn\u001b[39;00m Database(key[\u001b[38;5;241m0\u001b[39m])\u001b[38;5;241m.\u001b[39mget(key[\u001b[38;5;241m1\u001b[39m])\n\u001b[0;32m    336\u001b[0m \u001b[38;5;28;01mexcept\u001b[39;00m \u001b[38;5;167;01mTypeError\u001b[39;00m:\n\u001b[0;32m    337\u001b[0m     \u001b[38;5;28;01mraise\u001b[39;00m UnknownObject(\u001b[38;5;124m\"\u001b[39m\u001b[38;5;124mKey \u001b[39m\u001b[38;5;132;01m{}\u001b[39;00m\u001b[38;5;124m cannot be understood as an activity\u001b[39m\u001b[38;5;124m\"\u001b[39m\n\u001b[0;32m    338\u001b[0m                         \u001b[38;5;124m\"\u001b[39m\u001b[38;5;124m or `(database, code)` tuple.\u001b[39m\u001b[38;5;124m\"\u001b[39m)\n",
      "File \u001b[1;32mc:\\Users\\fried\\miniconda3\\envs\\premise\\Lib\\site-packages\\bw2data\\backends\\peewee\\database.py:133\u001b[0m, in \u001b[0;36mSQLiteBackend.get\u001b[1;34m(self, code)\u001b[0m\n\u001b[0;32m    130\u001b[0m \u001b[38;5;28;01mdef\u001b[39;00m \u001b[38;5;21mget\u001b[39m(\u001b[38;5;28mself\u001b[39m, code):\n\u001b[0;32m    131\u001b[0m     \u001b[38;5;28;01mreturn\u001b[39;00m Activity(\n\u001b[0;32m    132\u001b[0m         \u001b[38;5;28mself\u001b[39m\u001b[38;5;241m.\u001b[39m_get_queryset(filters\u001b[38;5;241m=\u001b[39m\u001b[38;5;28;01mFalse\u001b[39;00m)\u001b[38;5;241m.\u001b[39mwhere(\n\u001b[1;32m--> 133\u001b[0m             ActivityDataset\u001b[38;5;241m.\u001b[39mcode \u001b[38;5;241m==\u001b[39m code)\u001b[38;5;241m.\u001b[39mget()\n\u001b[0;32m    134\u001b[0m     )\n",
      "File \u001b[1;32mc:\\Users\\fried\\miniconda3\\envs\\premise\\Lib\\site-packages\\peewee.py:7285\u001b[0m, in \u001b[0;36mBaseModelSelect.get\u001b[1;34m(self, database)\u001b[0m\n\u001b[0;32m   7283\u001b[0m clone\u001b[38;5;241m.\u001b[39m_cursor_wrapper \u001b[38;5;241m=\u001b[39m \u001b[38;5;28;01mNone\u001b[39;00m\n\u001b[0;32m   7284\u001b[0m \u001b[38;5;28;01mtry\u001b[39;00m:\n\u001b[1;32m-> 7285\u001b[0m     \u001b[38;5;28;01mreturn\u001b[39;00m clone\u001b[38;5;241m.\u001b[39mexecute(database)[\u001b[38;5;241m0\u001b[39m]\n\u001b[0;32m   7286\u001b[0m \u001b[38;5;28;01mexcept\u001b[39;00m \u001b[38;5;167;01mIndexError\u001b[39;00m:\n\u001b[0;32m   7287\u001b[0m     sql, params \u001b[38;5;241m=\u001b[39m clone\u001b[38;5;241m.\u001b[39msql()\n",
      "File \u001b[1;32mc:\\Users\\fried\\miniconda3\\envs\\premise\\Lib\\site-packages\\peewee.py:2036\u001b[0m, in \u001b[0;36mdatabase_required.<locals>.inner\u001b[1;34m(self, database, *args, **kwargs)\u001b[0m\n\u001b[0;32m   2033\u001b[0m \u001b[38;5;28;01mif\u001b[39;00m \u001b[38;5;129;01mnot\u001b[39;00m database:\n\u001b[0;32m   2034\u001b[0m     \u001b[38;5;28;01mraise\u001b[39;00m InterfaceError(\u001b[38;5;124m'\u001b[39m\u001b[38;5;124mQuery must be bound to a database in order \u001b[39m\u001b[38;5;124m'\u001b[39m\n\u001b[0;32m   2035\u001b[0m                          \u001b[38;5;124m'\u001b[39m\u001b[38;5;124mto call \u001b[39m\u001b[38;5;124m\"\u001b[39m\u001b[38;5;132;01m%s\u001b[39;00m\u001b[38;5;124m\"\u001b[39m\u001b[38;5;124m.\u001b[39m\u001b[38;5;124m'\u001b[39m \u001b[38;5;241m%\u001b[39m method\u001b[38;5;241m.\u001b[39m\u001b[38;5;18m__name__\u001b[39m)\n\u001b[1;32m-> 2036\u001b[0m \u001b[38;5;28;01mreturn\u001b[39;00m method(\u001b[38;5;28mself\u001b[39m, database, \u001b[38;5;241m*\u001b[39margs, \u001b[38;5;241m*\u001b[39m\u001b[38;5;241m*\u001b[39mkwargs)\n",
      "File \u001b[1;32mc:\\Users\\fried\\miniconda3\\envs\\premise\\Lib\\site-packages\\peewee.py:2107\u001b[0m, in \u001b[0;36mBaseQuery.execute\u001b[1;34m(self, database)\u001b[0m\n\u001b[0;32m   2105\u001b[0m \u001b[38;5;129m@database_required\u001b[39m\n\u001b[0;32m   2106\u001b[0m \u001b[38;5;28;01mdef\u001b[39;00m \u001b[38;5;21mexecute\u001b[39m(\u001b[38;5;28mself\u001b[39m, database):\n\u001b[1;32m-> 2107\u001b[0m     \u001b[38;5;28;01mreturn\u001b[39;00m \u001b[38;5;28mself\u001b[39m\u001b[38;5;241m.\u001b[39m_execute(database)\n",
      "File \u001b[1;32mc:\\Users\\fried\\miniconda3\\envs\\premise\\Lib\\site-packages\\peewee.py:2280\u001b[0m, in \u001b[0;36mSelectBase._execute\u001b[1;34m(self, database)\u001b[0m\n\u001b[0;32m   2278\u001b[0m \u001b[38;5;28;01mdef\u001b[39;00m \u001b[38;5;21m_execute\u001b[39m(\u001b[38;5;28mself\u001b[39m, database):\n\u001b[0;32m   2279\u001b[0m     \u001b[38;5;28;01mif\u001b[39;00m \u001b[38;5;28mself\u001b[39m\u001b[38;5;241m.\u001b[39m_cursor_wrapper \u001b[38;5;129;01mis\u001b[39;00m \u001b[38;5;28;01mNone\u001b[39;00m:\n\u001b[1;32m-> 2280\u001b[0m         cursor \u001b[38;5;241m=\u001b[39m database\u001b[38;5;241m.\u001b[39mexecute(\u001b[38;5;28mself\u001b[39m)\n\u001b[0;32m   2281\u001b[0m         \u001b[38;5;28mself\u001b[39m\u001b[38;5;241m.\u001b[39m_cursor_wrapper \u001b[38;5;241m=\u001b[39m \u001b[38;5;28mself\u001b[39m\u001b[38;5;241m.\u001b[39m_get_cursor_wrapper(cursor)\n\u001b[0;32m   2282\u001b[0m     \u001b[38;5;28;01mreturn\u001b[39;00m \u001b[38;5;28mself\u001b[39m\u001b[38;5;241m.\u001b[39m_cursor_wrapper\n",
      "File \u001b[1;32mc:\\Users\\fried\\miniconda3\\envs\\premise\\Lib\\site-packages\\peewee.py:3330\u001b[0m, in \u001b[0;36mDatabase.execute\u001b[1;34m(self, query, commit, **context_options)\u001b[0m\n\u001b[0;32m   3328\u001b[0m ctx \u001b[38;5;241m=\u001b[39m \u001b[38;5;28mself\u001b[39m\u001b[38;5;241m.\u001b[39mget_sql_context(\u001b[38;5;241m*\u001b[39m\u001b[38;5;241m*\u001b[39mcontext_options)\n\u001b[0;32m   3329\u001b[0m sql, params \u001b[38;5;241m=\u001b[39m ctx\u001b[38;5;241m.\u001b[39msql(query)\u001b[38;5;241m.\u001b[39mquery()\n\u001b[1;32m-> 3330\u001b[0m \u001b[38;5;28;01mreturn\u001b[39;00m \u001b[38;5;28mself\u001b[39m\u001b[38;5;241m.\u001b[39mexecute_sql(sql, params)\n",
      "File \u001b[1;32mc:\\Users\\fried\\miniconda3\\envs\\premise\\Lib\\site-packages\\peewee.py:3322\u001b[0m, in \u001b[0;36mDatabase.execute_sql\u001b[1;34m(self, sql, params, commit)\u001b[0m\n\u001b[0;32m   3320\u001b[0m \u001b[38;5;28;01mwith\u001b[39;00m __exception_wrapper__:\n\u001b[0;32m   3321\u001b[0m     cursor \u001b[38;5;241m=\u001b[39m \u001b[38;5;28mself\u001b[39m\u001b[38;5;241m.\u001b[39mcursor()\n\u001b[1;32m-> 3322\u001b[0m     cursor\u001b[38;5;241m.\u001b[39mexecute(sql, params \u001b[38;5;129;01mor\u001b[39;00m ())\n\u001b[0;32m   3323\u001b[0m \u001b[38;5;28;01mreturn\u001b[39;00m cursor\n",
      "\u001b[1;31mKeyboardInterrupt\u001b[0m: "
     ]
    }
   ],
   "source": [
    "import pandas as pd\n",
    "import numpy as np\n",
    "\n",
    "# Step 1: Read the Excel file into a DataFrame\n",
    "file_path = r'C:\\Users\\fried\\premise_validation\\dopo\\0309_v13.xlsx'\n",
    "sheet_name = 'Cement_global_warming_potential'\n",
    "df = pd.read_excel(file_path, sheet_name=sheet_name)\n",
    "\n",
    "# Step 2: Initialize the new columns\n",
    "df['Exchange Count'] = 0\n",
    "df['Exchange Amounts'] = [[] for _ in range(len(df))]  # Initialize with empty lists\n",
    "\n",
    "# Assuming ei39SSP2 is your database object\n",
    "database_name = ei39SSP2\n",
    "\n",
    "# Step 3: Apply the function to each activity key in the DataFrame\n",
    "for index, row in df.iterrows():\n",
    "    activity_key = row['activity key']\n",
    "    print(f\"Processing activity key: {activity_key}\")\n",
    "    \n",
    "    exchange_count = 0\n",
    "    exchange_amounts = []\n",
    "    \n",
    "    for act in database_name:\n",
    "        for exc in act.exchanges():\n",
    "            if exc.input == activity_key:\n",
    "                exchange_count += 1\n",
    "                exchange_amounts.append(exc['amount'])\n",
    "    \n",
    "    df.at[index, 'Exchange Count'] = exchange_count\n",
    "    df.at[index, 'Exchange Amounts'] = exchange_amounts\n",
    "    print(f\"Exchange count for {activity_key}: {exchange_count}\")\n",
    "\n",
    "# Calculate median for exchange amounts and add it as another column\n",
    "df['Median Exchange Amount'] = df['Exchange Amounts'].apply(lambda x: np.median(x) if x else None)\n",
    "\n",
    "# Step 4: Save the updated DataFrame back to Excel\n",
    "df.to_excel('your_updated_excel_file_v4.xlsx', sheet_name=sheet_name, index=False)\n",
    "\n",
    "print(\"Processing complete. Updated Excel file saved.\")"
   ]
  }
 ],
 "metadata": {
  "kernelspec": {
   "display_name": "premise",
   "language": "python",
   "name": "python3"
  },
  "language_info": {
   "codemirror_mode": {
    "name": "ipython",
    "version": 3
   },
   "file_extension": ".py",
   "mimetype": "text/x-python",
   "name": "python",
   "nbconvert_exporter": "python",
   "pygments_lexer": "ipython3",
   "version": "3.11.9"
  }
 },
 "nbformat": 4,
 "nbformat_minor": 2
}
