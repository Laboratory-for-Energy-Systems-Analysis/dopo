{
 "cells": [
  {
   "cell_type": "code",
   "execution_count": 1,
   "metadata": {},
   "outputs": [],
   "source": [
    "import brightway2 as bw\n",
    "import bw2data as bd\n"
   ]
  },
  {
   "cell_type": "code",
   "execution_count": 2,
   "metadata": {},
   "outputs": [
    {
     "name": "stdout",
     "output_type": "stream",
     "text": [
      "Biosphere database already present!!! No setup is needed\n"
     ]
    }
   ],
   "source": [
    "bd.projects.set_current(\"premise-validation-try1\")\n",
    "bw.bw2setup()\n",
    "\n",
    "bio3=bw.Database('biosphere3')\n",
    "ei39=bw.Database('ecoinvent 3.9.1 cutoff')\n",
    "ei39SSP2=bw.Database('ei_cutoff_3.9_image_SSP2-RCP19_2050 2024-06-27')"
   ]
  },
  {
   "cell_type": "code",
   "execution_count": 19,
   "metadata": {},
   "outputs": [
    {
     "data": {
      "text/plain": [
       "{'method_1': {'object': Brightway2 Method: IPCC 2013: climate change: global warming potential (GWP100),\n",
       "  'method name': ('IPCC 2013',\n",
       "   'climate change',\n",
       "   'global warming potential (GWP100)'),\n",
       "  'short name': 'global warming potential (GWP100)',\n",
       "  'unit': 'kg CO2-Eq'}}"
      ]
     },
     "execution_count": 19,
     "metadata": {},
     "output_type": "execute_result"
    }
   ],
   "source": [
    "finder=dopo.methods.MethodFinder()\n",
    "\n",
    "finder.find_and_create_method(criteria=['IPCC', '2013', 'GWP100'], exclude=['no LT'])\n",
    "# finder.find_and_create_method(criteria=['EN15804','Cumulative', 'non-renewable' ])\n",
    "# finder.find_and_create_method(criteria=['land occupation','selected'])\n",
    "# finder.find_and_create_method(criteria=['EN15804','fresh water'])\n",
    "method_dict=finder.get_all_methods()\n",
    "method_dict"
   ]
  },
  {
   "cell_type": "code",
   "execution_count": 8,
   "metadata": {},
   "outputs": [
    {
     "name": "stdout",
     "output_type": "stream",
     "text": [
      "ei_cutoff_3.9_image_SSP2-RCP19_2050 2024-06-27\n"
     ]
    }
   ],
   "source": [
    "key = ('ei_cutoff_3.9_image_SSP2-RCP19_2050 2024-06-27', '4fbb4cf48eb2fd3dd8cef6069e5223ce')\n",
    "\n",
    "# Extract the first string from the tuple\n",
    "first_string = key[0]\n",
    "\n",
    "# Split by underscores and take the first part\n",
    "database_name = first_string.split('_')[0]\n",
    "\n",
    "print(first_string)"
   ]
  },
  {
   "cell_type": "code",
   "execution_count": 12,
   "metadata": {},
   "outputs": [
    {
     "name": "stdout",
     "output_type": "stream",
     "text": [
      "The activity '('ei_cutoff_3.9_image_SSP2-RCP19_2050 2024-06-27', 'c38f699f4ad0e18953c86ede8d9a611a')' is used as an exchange 2 times in the 'Brightway2 SQLiteBackend: ei_cutoff_3.9_image_SSP2-RCP19_2050 2024-06-27' database.\n",
      "Exchange amounts: [0.04699399422050376, 1.0]\n",
      "The median of the exchange amounts is: 0.5234969971102519\n"
     ]
    }
   ],
   "source": [
    "import numpy as np \n",
    "\n",
    "database_name=ei39SSP2\n",
    "activity_key=('ei_cutoff_3.9_image_SSP2-RCP19_2050 2024-06-27',\n",
    " 'c38f699f4ad0e18953c86ede8d9a611a')\n",
    "\n",
    "# Initialize the counter\n",
    "exchange_count = 0\n",
    "exchange_amounts = []\n",
    "\n",
    "# Loop through all activities in the database\n",
    "for act in database_name:\n",
    "    # Loop through all exchanges in the current activity\n",
    "    for exc in act.exchanges():\n",
    "        # Check if the input of the exchange matches the activity key\n",
    "        if exc.input == activity_key:\n",
    "            exchange_count += 1\n",
    "            # Store the amount of the exchange\n",
    "            exchange_amounts.append(exc['amount'])\n",
    "\n",
    "# Print the total count of exchanges\n",
    "print(f\"The activity '{activity_key}' is used as an exchange {exchange_count} times in the '{database_name}' database.\")\n",
    "\n",
    "# Print the amounts of the exchanges\n",
    "print(f\"Exchange amounts: {exchange_amounts}\")\n",
    "\n",
    "# Calculate and print the median of the exchange amounts\n",
    "if exchange_amounts:\n",
    "    median_amount = np.median(exchange_amounts)\n",
    "    print(f\"The median of the exchange amounts is: {median_amount}\")\n",
    "else:\n",
    "    print(\"No exchanges found for the specified activity.\")"
   ]
  }
 ],
 "metadata": {
  "kernelspec": {
   "display_name": "premise",
   "language": "python",
   "name": "python3"
  },
  "language_info": {
   "codemirror_mode": {
    "name": "ipython",
    "version": 3
   },
   "file_extension": ".py",
   "mimetype": "text/x-python",
   "name": "python",
   "nbconvert_exporter": "python",
   "pygments_lexer": "ipython3",
   "version": "3.11.9"
  }
 },
 "nbformat": 4,
 "nbformat_minor": 2
}
