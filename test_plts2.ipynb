{
 "cells": [
  {
   "cell_type": "code",
   "execution_count": 11,
   "id": "be2b7557-388d-486b-81a7-006a3bf59728",
   "metadata": {},
   "outputs": [],
   "source": [
    "import brightway2 as bw\n",
    "import bw2data as bd\n",
    "import bw2analyzer as ba\n",
    "import bw2calc as bc\n",
    "\n",
    "import pandas as pd\n",
    "import dopo\n"
   ]
  },
  {
   "cell_type": "code",
   "execution_count": 6,
   "id": "45500028-4a69-4b00-b2e2-88faecc07d2c",
   "metadata": {},
   "outputs": [
    {
     "name": "stdout",
     "output_type": "stream",
     "text": [
      "Biosphere database already present!!! No setup is needed\n"
     ]
    }
   ],
   "source": [
    "bd.projects.set_current(\"premise-validation-try1\")\n",
    "bw.bw2setup()\n",
    "\n",
    "bio3=bw.Database('biosphere3')\n",
    "ei39=bw.Database('ecoinvent 3.9.1 cutoff')\n",
    "ei39SSP2=bw.Database('ei_cutoff_3.9_image_SSP2-RCP19_2050 2024-06-27')"
   ]
  },
  {
   "cell_type": "code",
   "execution_count": 7,
   "id": "0a4de86b-8bd9-4c28-9706-a16618c3eda7",
   "metadata": {},
   "outputs": [],
   "source": [
    "cement = 'cement_small.yaml'\n",
    "electricity = 'electricity_small.yaml'\n",
    "fuels= 'fuels_small.yaml'\n",
    "steel = 'steel_small.yaml'\n",
    "transport = 'transport_small.yaml'"
   ]
  },
  {
   "cell_type": "code",
   "execution_count": 8,
   "id": "b36d2166-dd57-404c-9cf7-74aae78ee5f1",
   "metadata": {},
   "outputs": [
    {
     "data": {
      "text/plain": [
       "{'Cement': {'yaml': 'yamls\\\\cement_small.yaml', 'yaml identifier': 'Cement'},\n",
       " 'Steel': {'yaml': 'yamls\\\\steel_small.yaml', 'yaml identifier': 'Steel'}}"
      ]
     },
     "execution_count": 8,
     "metadata": {},
     "output_type": "execute_result"
    }
   ],
   "source": [
    "files_dict={}\n",
    "files_dict['Cement']={'yaml': 'yamls\\cement_small.yaml',\n",
    "                      'yaml identifier': 'Cement'}\n",
    "#files_dict['Electricity']= {'yaml':'yamls\\electricity_small.yaml',\n",
    "                            #'yaml identifier': 'Electricity'} #yaml identifier is the name of the filter in the yaml file, in the first line.\n",
    "files_dict['Steel']={'yaml':'yamls\\steel_small.yaml',\n",
    "                     'yaml identifier': 'Steel'}\n",
    "files_dict"
   ]
  },
  {
   "cell_type": "code",
   "execution_count": 12,
   "id": "e8324229-ab42-45b3-aa73-73f56cb14609",
   "metadata": {},
   "outputs": [
    {
     "ename": "AttributeError",
     "evalue": "module 'dopo' has no attribute 'filter_sectors'",
     "output_type": "error",
     "traceback": [
      "\u001b[1;31m---------------------------------------------------------------------------\u001b[0m",
      "\u001b[1;31mAttributeError\u001b[0m                            Traceback (most recent call last)",
      "Cell \u001b[1;32mIn[12], line 1\u001b[0m\n\u001b[1;32m----> 1\u001b[0m sector_dict_premise\u001b[38;5;241m=\u001b[39mdopo\u001b[38;5;241m.\u001b[39mfilter_sectors\u001b[38;5;241m.\u001b[39mprocess_yaml_files(files_dict, ei39SSP2)\n",
      "\u001b[1;31mAttributeError\u001b[0m: module 'dopo' has no attribute 'filter_sectors'"
     ]
    }
   ],
   "source": [
    "sector_dict_premise=dopo.filter_sectors.process_yaml_files(files_dict, ei39SSP2)"
   ]
  },
  {
   "cell_type": "code",
   "execution_count": null,
   "id": "0323ae99-836e-4378-983e-08d669466412",
   "metadata": {},
   "outputs": [],
   "source": [
    "#Get Methods\n",
    "finder=MethodFinder()\n",
    "\n",
    "finder.find_and_create_method(criteria=['IPCC', '2013', 'GWP100'], exclude=['no LT'])\n",
    "finder.find_and_create_method(criteria=['EN15804','Cumulative', 'non-renewable' ])\n",
    "# finder.find_and_create_method(criteria=['land occupation','selected'])\n",
    "# finder.find_and_create_method(criteria=['EN15804','fresh water'])\n",
    "\n",
    "method_dict=finder.get_all_methods()\n",
    "method_dict"
   ]
  }
 ],
 "metadata": {
  "kernelspec": {
   "display_name": "Python 3 (ipykernel)",
   "language": "python",
   "name": "python3"
  },
  "language_info": {
   "codemirror_mode": {
    "name": "ipython",
    "version": 3
   },
   "file_extension": ".py",
   "mimetype": "text/x-python",
   "name": "python",
   "nbconvert_exporter": "python",
   "pygments_lexer": "ipython3",
   "version": "3.11.9"
  }
 },
 "nbformat": 4,
 "nbformat_minor": 5
}
