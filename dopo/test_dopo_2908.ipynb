{
 "cells": [
  {
   "cell_type": "code",
   "execution_count": 1,
   "metadata": {},
   "outputs": [],
   "source": [
    "import dopo\n",
    "from dopo import*"
   ]
  },
  {
   "cell_type": "code",
   "execution_count": 2,
   "metadata": {},
   "outputs": [],
   "source": [
    "import brightway2 as bw\n",
    "import bw2data as bd\n",
    "import bw2analyzer as ba\n",
    "\n",
    "import ast\n",
    "import pandas as pd\n"
   ]
  },
  {
   "cell_type": "code",
   "execution_count": 3,
   "metadata": {},
   "outputs": [
    {
     "name": "stdout",
     "output_type": "stream",
     "text": [
      "Biosphere database already present!!! No setup is needed\n"
     ]
    }
   ],
   "source": [
    "bd.projects.set_current(\"premise-validation-try1\")\n",
    "bw.bw2setup()\n",
    "\n",
    "bio3=bw.Database('biosphere3')\n",
    "ei39=bw.Database('ecoinvent 3.9.1 cutoff')\n",
    "ei39SSP2=bw.Database('ei_cutoff_3.9_image_SSP2-RCP19_2050 2024-06-27')"
   ]
  },
  {
   "cell_type": "code",
   "execution_count": 4,
   "metadata": {},
   "outputs": [],
   "source": [
    "#sector filters file names/paths\n",
    "\n",
    "cement = 'cement_small.yaml'\n",
    "electricity = 'electricity_small.yaml'\n",
    "fuels= 'fuels_small.yaml'\n",
    "steel = 'steel_small.yaml'\n",
    "transport = 'transport_small.yaml'"
   ]
  },
  {
   "cell_type": "code",
   "execution_count": 8,
   "metadata": {},
   "outputs": [
    {
     "data": {
      "text/plain": [
       "{'Cement': {'yaml': 'dev\\\\yamls\\\\cement_small.yaml',\n",
       "  'yaml identifier': 'Cement'},\n",
       " 'Steel': {'yaml': 'dev\\\\yamls\\\\steel_small.yaml', 'yaml identifier': 'Steel'}}"
      ]
     },
     "execution_count": 8,
     "metadata": {},
     "output_type": "execute_result"
    }
   ],
   "source": [
    "files_dict={}\n",
    "files_dict['Cement']={'yaml': 'dev\\yamls\\cement_small.yaml', \n",
    "                      'yaml identifier': 'Cement'}\n",
    "files_dict['Steel']= {'yaml':'dev\\yamls\\steel_small.yaml',\n",
    "                            'yaml identifier': 'Steel'} #yaml identifier is the name of the filter in the yaml file, in the first line.\n",
    "files_dict"
   ]
  },
  {
   "cell_type": "code",
   "execution_count": 9,
   "metadata": {},
   "outputs": [
    {
     "name": "stdout",
     "output_type": "stream",
     "text": [
      "Processing Cement with database ei_cutoff_3.9_image_SSP2-RCP19_2050 2024-06-27\n",
      "Activities for Cement:\n",
      "  ('ei_cutoff_3.9_image_SSP2-RCP19_2050 2024-06-27', 'a3c2064d83411f7963af550c04c869a1')\n",
      "  ('ei_cutoff_3.9_image_SSP2-RCP19_2050 2024-06-27', '86841f8c7ee2668f244d3b8e34f41932')\n",
      "  ('ei_cutoff_3.9_image_SSP2-RCP19_2050 2024-06-27', 'df49e8f525497f2fbd56bcdc80ff0cde')\n",
      "  ('ei_cutoff_3.9_image_SSP2-RCP19_2050 2024-06-27', '36a53c174f34e672bc15b7e55563685e')\n",
      "  ('ei_cutoff_3.9_image_SSP2-RCP19_2050 2024-06-27', '3c16b45db40210cd97de6574b2f47aaf')\n",
      "  ('ei_cutoff_3.9_image_SSP2-RCP19_2050 2024-06-27', 'f8b84f45f50d3bd7ff4feaabdb493f6a')\n",
      "  ('ei_cutoff_3.9_image_SSP2-RCP19_2050 2024-06-27', 'fcb666edf2a01467e555eeff5b4a5bbb')\n",
      "Processing Steel with database ei_cutoff_3.9_image_SSP2-RCP19_2050 2024-06-27\n",
      "Activities for Steel:\n",
      "  ('ei_cutoff_3.9_image_SSP2-RCP19_2050 2024-06-27', 'af6bd1221fc0206541fbaf481397bf0d')\n",
      "  ('ei_cutoff_3.9_image_SSP2-RCP19_2050 2024-06-27', '1dffacc9e0ca08fb55c6b780d7e677dc')\n",
      "  ('ei_cutoff_3.9_image_SSP2-RCP19_2050 2024-06-27', '2baa0deb3adc89dfe8cb89d5e078ba8d')\n",
      "  ('ei_cutoff_3.9_image_SSP2-RCP19_2050 2024-06-27', '18b0dcf01dd401e1549b3796e3786213')\n",
      "Processing Cement with database ei_cutoff_3.9_image_SSP2-RCP19_2050 2024-06-27\n",
      "Activities for Cement:\n",
      "  ('ei_cutoff_3.9_image_SSP2-RCP19_2050 2024-06-27', 'a3c2064d83411f7963af550c04c869a1')\n",
      "  ('ei_cutoff_3.9_image_SSP2-RCP19_2050 2024-06-27', '86841f8c7ee2668f244d3b8e34f41932')\n",
      "  ('ei_cutoff_3.9_image_SSP2-RCP19_2050 2024-06-27', 'df49e8f525497f2fbd56bcdc80ff0cde')\n",
      "  ('ei_cutoff_3.9_image_SSP2-RCP19_2050 2024-06-27', '36a53c174f34e672bc15b7e55563685e')\n",
      "  ('ei_cutoff_3.9_image_SSP2-RCP19_2050 2024-06-27', '3c16b45db40210cd97de6574b2f47aaf')\n",
      "  ('ei_cutoff_3.9_image_SSP2-RCP19_2050 2024-06-27', 'f8b84f45f50d3bd7ff4feaabdb493f6a')\n",
      "  ('ei_cutoff_3.9_image_SSP2-RCP19_2050 2024-06-27', 'fcb666edf2a01467e555eeff5b4a5bbb')\n",
      "Processing Steel with database ei_cutoff_3.9_image_SSP2-RCP19_2050 2024-06-27\n",
      "Activities for Steel:\n",
      "  ('ei_cutoff_3.9_image_SSP2-RCP19_2050 2024-06-27', 'af6bd1221fc0206541fbaf481397bf0d')\n",
      "  ('ei_cutoff_3.9_image_SSP2-RCP19_2050 2024-06-27', '2baa0deb3adc89dfe8cb89d5e078ba8d')\n",
      "  ('ei_cutoff_3.9_image_SSP2-RCP19_2050 2024-06-27', '1dffacc9e0ca08fb55c6b780d7e677dc')\n",
      "  ('ei_cutoff_3.9_image_SSP2-RCP19_2050 2024-06-27', '18b0dcf01dd401e1549b3796e3786213')\n",
      "Processing Cement with database ecoinvent 3.9.1 cutoff\n",
      "Activities for Cement:\n",
      "  ('ecoinvent 3.9.1 cutoff', '86841f8c7ee2668f244d3b8e34f41932')\n",
      "  ('ecoinvent 3.9.1 cutoff', 'a3c2064d83411f7963af550c04c869a1')\n",
      "  ('ecoinvent 3.9.1 cutoff', '36a53c174f34e672bc15b7e55563685e')\n",
      "  ('ecoinvent 3.9.1 cutoff', 'df49e8f525497f2fbd56bcdc80ff0cde')\n",
      "  ('ecoinvent 3.9.1 cutoff', '3c16b45db40210cd97de6574b2f47aaf')\n",
      "  ('ecoinvent 3.9.1 cutoff', 'f8b84f45f50d3bd7ff4feaabdb493f6a')\n",
      "  ('ecoinvent 3.9.1 cutoff', 'fcb666edf2a01467e555eeff5b4a5bbb')\n",
      "Processing Steel with database ecoinvent 3.9.1 cutoff\n",
      "Activities for Steel:\n",
      "  ('ecoinvent 3.9.1 cutoff', '1dffacc9e0ca08fb55c6b780d7e677dc')\n",
      "  ('ecoinvent 3.9.1 cutoff', '2baa0deb3adc89dfe8cb89d5e078ba8d')\n",
      "  ('ecoinvent 3.9.1 cutoff', 'af6bd1221fc0206541fbaf481397bf0d')\n",
      "  ('ecoinvent 3.9.1 cutoff', '18b0dcf01dd401e1549b3796e3786213')\n"
     ]
    }
   ],
   "source": [
    "\n",
    "#for plot 1 and 2\n",
    "dictionary_one = dopo.sector_filter.process_yaml_files(files_dict, ei39SSP2)\n",
    "\n",
    "#for comparison\n",
    "premise_dict = dopo.sector_filter.process_yaml_files(files_dict, ei39SSP2)\n",
    "ecoinvent_dict = dopo.sector_filter.process_yaml_files(files_dict, ei39)\n"
   ]
  },
  {
   "cell_type": "code",
   "execution_count": 10,
   "metadata": {},
   "outputs": [
    {
     "data": {
      "text/plain": [
       "{'method_1': {'object': Brightway2 Method: IPCC 2013: climate change: global warming potential (GWP100),\n",
       "  'method name': ('IPCC 2013',\n",
       "   'climate change',\n",
       "   'global warming potential (GWP100)'),\n",
       "  'short name': 'global warming potential (GWP100)',\n",
       "  'unit': 'kg CO2-Eq'},\n",
       " 'method_2': {'object': Brightway2 Method: EN15804: inventory indicators ISO21930: Cumulative Energy Demand - non-renewable energy resources,\n",
       "  'method name': ('EN15804',\n",
       "   'inventory indicators ISO21930',\n",
       "   'Cumulative Energy Demand - non-renewable energy resources'),\n",
       "  'short name': 'Cumulative Energy Demand - non-renewable energy resources',\n",
       "  'unit': 'megajoule'},\n",
       " 'method_3': {'object': Brightway2 Method: selected LCI results: resource: land occupation,\n",
       "  'method name': ('selected LCI results', 'resource', 'land occupation'),\n",
       "  'short name': 'land occupation',\n",
       "  'unit': 'square meter-year'},\n",
       " 'method_4': {'object': Brightway2 Method: EN15804: inventory indicators ISO21930: use of net fresh water,\n",
       "  'method name': ('EN15804',\n",
       "   'inventory indicators ISO21930',\n",
       "   'use of net fresh water'),\n",
       "  'short name': 'use of net fresh water',\n",
       "  'unit': 'cubic meter'}}"
      ]
     },
     "execution_count": 10,
     "metadata": {},
     "output_type": "execute_result"
    }
   ],
   "source": [
    "finder=dopo.methods.MethodFinder()\n",
    "\n",
    "finder.find_and_create_method(criteria=['IPCC', '2013', 'GWP100'], exclude=['no LT'])\n",
    "finder.find_and_create_method(criteria=['EN15804','Cumulative', 'non-renewable' ])\n",
    "finder.find_and_create_method(criteria=['land occupation','selected'])\n",
    "finder.find_and_create_method(criteria=['EN15804','fresh water'])\n",
    "method_dict=finder.get_all_methods()\n",
    "method_dict"
   ]
  },
  {
   "cell_type": "code",
   "execution_count": 11,
   "metadata": {},
   "outputs": [
    {
     "name": "stdout",
     "output_type": "stream",
     "text": [
      "Omitting activity name common prefix: 'cement production, '\n",
      "Omitting activity name common prefix: 'cement production, '\n",
      "Omitting activity name common prefix: 'cement production, '\n",
      "Omitting activity name common prefix: 'cement production, '\n",
      "Omitting activity name common prefix: 'steel production, electric, '\n",
      "Omitting activity name common prefix: 'steel production, electric, '\n",
      "Omitting activity name common prefix: 'steel production, electric, '\n",
      "Omitting activity name common prefix: 'steel production, electric, '\n"
     ]
    }
   ],
   "source": [
    "scores_dictionary_one = dopo.sector_lca_scores(dictionary_one, method_dict, cutoff=0.2)"
   ]
  },
  {
   "cell_type": "code",
   "execution_count": 12,
   "metadata": {},
   "outputs": [
    {
     "name": "stdout",
     "output_type": "stream",
     "text": [
      "Warning: No matching key found for worksheet 'Steel_charts'. Skipping...\n",
      "Warning: No matching key found for worksheet 'Cement_charts'. Skipping...\n",
      "Results and chart saved to 2908_v14.xlsx\n"
     ]
    }
   ],
   "source": [
    "column_positions=sector_lca_scores_to_excel(scores_dictionary_one, '2908_v14.xlsx')\n",
    "last_row= dot_plots_xcl('2908_v14.xlsx', column_positions)\n",
    "current_row_stacked_bar=stacked_bars_xcl('2908_v14.xlsx', column_positions, last_row)\n",
    "column_positions_compare=relative_changes_db(premise_dict, ecoinvent_dict, method_dict, '2908_v14.xlsx')\n",
    "barchart_compare_db_xcl('2908_v14.xlsx', column_positions_compare, current_row_stacked_bar)"
   ]
  }
 ],
 "metadata": {
  "kernelspec": {
   "display_name": "premise",
   "language": "python",
   "name": "python3"
  },
  "language_info": {
   "codemirror_mode": {
    "name": "ipython",
    "version": 3
   },
   "file_extension": ".py",
   "mimetype": "text/x-python",
   "name": "python",
   "nbconvert_exporter": "python",
   "pygments_lexer": "ipython3",
   "version": "3.11.9"
  }
 },
 "nbformat": 4,
 "nbformat_minor": 2
}
